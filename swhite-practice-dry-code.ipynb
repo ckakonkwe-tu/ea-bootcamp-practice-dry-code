{
 "cells": [
  {
   "cell_type": "markdown",
   "metadata": {},
   "source": [
    "## Practice Dry Code\n",
    "\n",
    "**author** Shannon White\n",
    "\n",
    "**date** Aug 21 \n"
   ]
  },
  {
   "cell_type": "markdown",
   "metadata": {},
   "source": [
    "import necessary packages"
   ]
  },
  {
   "cell_type": "code",
   "execution_count": 1,
   "metadata": {},
   "outputs": [],
   "source": [
    "import os\n",
    "import numpy as np\n",
    "import urllib.request\n",
    "import pandas as pd \n",
    "import matplotlib.pyplot as plt\n"
   ]
  },
  {
   "cell_type": "markdown",
   "metadata": {},
   "source": [
    "download .csv files of **monthly precipitation (inches)** and import the data to **numpy arrays**:"
   ]
  },
  {
   "cell_type": "code",
   "execution_count": 2,
   "metadata": {},
   "outputs": [
    {
     "data": {
      "text/plain": [
       "'/Users/shannonwhite/earth-analytics-bootcamp/ea-bootcamp-practice-dry-code'"
      ]
     },
     "execution_count": 2,
     "metadata": {},
     "output_type": "execute_result"
    }
   ],
   "source": [
    "os.getcwd()"
   ]
  },
  {
   "cell_type": "code",
   "execution_count": 5,
   "metadata": {},
   "outputs": [
    {
     "data": {
      "text/plain": [
       "'/Users/shannonwhite/earth-analytics-bootcamp'"
      ]
     },
     "execution_count": 5,
     "metadata": {},
     "output_type": "execute_result"
    }
   ],
   "source": [
    "os.chdir('/Users/shannonwhite/earth-analytics-bootcamp/')\n",
    "os.getcwd()"
   ]
  },
  {
   "cell_type": "code",
   "execution_count": 7,
   "metadata": {},
   "outputs": [
    {
     "data": {
      "text/plain": [
       "('data/monthly-precip-1993-to-1997.csv',\n",
       " <http.client.HTTPMessage at 0x1130cd668>)"
      ]
     },
     "execution_count": 7,
     "metadata": {},
     "output_type": "execute_result"
    }
   ],
   "source": [
    "urllib.request.urlretrieve (url=\"https://ndownloader.figshare.com/files/12807380\", filename= \"data/monthly-precip-1988-to-1992.csv\")\n",
    "urllib.request.urlretrieve (url=\"https://ndownloader.figshare.com/files/12807383\", filename=\"data/monthly-precip-1993-to-1997.csv\")"
   ]
  },
  {
   "cell_type": "code",
   "execution_count": 42,
   "metadata": {},
   "outputs": [],
   "source": [
    "monthly_precip_1988_to_1992 = np.loadtxt (fname=\"/users/shannonwhite/earth-analytics-bootcamp/data/monthly-precip-1988-to-1992.csv\" , delimiter = \",\")\n",
    "monthly_precip_1993_to_1997 = np.loadtxt (fname=\"/users/shannonwhite/earth-analytics-bootcamp/data/monthly-precip-1993-to-1997.csv\" , delimiter = \",\")"
   ]
  },
  {
   "cell_type": "code",
   "execution_count": 43,
   "metadata": {},
   "outputs": [
    {
     "name": "stdout",
     "output_type": "stream",
     "text": [
      "[[0.4  1.14 2.53 1.48 3.7  0.7  0.71 1.33 2.02 0.03 0.75 2.16]\n",
      " [1.19 1.27 0.97 1.95 2.68 2.93 1.43 1.63 3.54 1.4  0.09 1.54]\n",
      " [1.04 1.32 4.55 2.16 1.73 0.39 4.23 1.13 1.84 0.96 1.6  0.75]\n",
      " [1.05 0.15 0.43 2.41 2.9  3.59 3.11 2.08 1.21 0.93 3.3  0.01]\n",
      " [0.67 0.   5.17 0.46 1.7  0.96 1.13 3.08 0.02 0.79 2.56 0.84]]\n",
      "[[0.4  1.14 2.53 1.48 3.7  0.7  0.71 1.33 2.02 0.03 0.75 2.16]\n",
      " [1.19 1.27 0.97 1.95 2.68 2.93 1.43 1.63 3.54 1.4  0.09 1.54]\n",
      " [1.04 1.32 4.55 2.16 1.73 0.39 4.23 1.13 1.84 0.96 1.6  0.75]\n",
      " [1.05 0.15 0.43 2.41 2.9  3.59 3.11 2.08 1.21 0.93 3.3  0.01]\n",
      " [0.67 0.   5.17 0.46 1.7  0.96 1.13 3.08 0.02 0.79 2.56 0.84]]\n"
     ]
    }
   ],
   "source": [
    "print (monthly_precip_1988_to_1992)\n",
    "print (monthly_precip_1988_to_1992)"
   ]
  },
  {
   "cell_type": "markdown",
   "metadata": {},
   "source": [
    "download the .csv files of **monthly temperature (Fahrenheit)** and import the data to **pandas dataframes**:"
   ]
  },
  {
   "cell_type": "code",
   "execution_count": 12,
   "metadata": {},
   "outputs": [
    {
     "data": {
      "text/plain": [
       "'/Users/shannonwhite/earth-analytics-bootcamp'"
      ]
     },
     "execution_count": 12,
     "metadata": {},
     "output_type": "execute_result"
    }
   ],
   "source": [
    "os.getcwd()"
   ]
  },
  {
   "cell_type": "code",
   "execution_count": 13,
   "metadata": {},
   "outputs": [
    {
     "data": {
      "text/plain": [
       "('data/temp-1996-to-2000-months.csv', <http.client.HTTPMessage at 0x10dcbf550>)"
      ]
     },
     "execution_count": 13,
     "metadata": {},
     "output_type": "execute_result"
    }
   ],
   "source": [
    "urllib.request.urlretrieve (url=\"https://ndownloader.figshare.com/files/12807389\", filename=\"data/temp-1991-to-1995-months.csv\")\n",
    "urllib.request.urlretrieve (url=\"https://ndownloader.figshare.com/files/12807386\", filename=\"data/temp-1996-to-2000-months.csv\")"
   ]
  },
  {
   "cell_type": "code",
   "execution_count": 14,
   "metadata": {},
   "outputs": [],
   "source": [
    "temp_1991_to_1995_months = pd.read_csv(\"/users/shannonwhite/earth-analytics-bootcamp/data/temp-1991-to-1995-months.csv\")\n",
    "temp_1996_to_2000_months = pd.read_csv(\"/users/shannonwhite/earth-analytics-bootcamp/data/temp-1996-to-2000-months.csv\")"
   ]
  },
  {
   "cell_type": "markdown",
   "metadata": {},
   "source": [
    "Select the second row **(index = 1)** of data (including all columns) from the numpy array containing the data for 1988 to 1992, and save to a new numpy array."
   ]
  },
  {
   "cell_type": "code",
   "execution_count": 22,
   "metadata": {},
   "outputs": [
    {
     "name": "stdout",
     "output_type": "stream",
     "text": [
      "[[0.86 1.37 1.61 3.46 1.35 0.93 0.35 2.56 0.54 1.02 2.25 0.49]]\n",
      "2\n"
     ]
    }
   ],
   "source": [
    "#start/include index 1(row 2), not include index 2(row 3) ; all columns\n",
    "\n",
    "monthly_precip_1989 = monthly_precip_1988_to_1992[1:2,0:]\n",
    "print (monthly_precip_1989)\n",
    "print (monthly_precip_1989.ndim)"
   ]
  },
  {
   "cell_type": "markdown",
   "metadata": {},
   "source": [
    "Write a conditional statement that checks whether the numpy array created in the previous question (i.e. the selection) is a one-dimensional numpy array."
   ]
  },
  {
   "cell_type": "code",
   "execution_count": 23,
   "metadata": {},
   "outputs": [
    {
     "name": "stdout",
     "output_type": "stream",
     "text": [
      "it is not one-dimensional\n"
     ]
    }
   ],
   "source": [
    "if monthly_precip_1989.ndim == 1:\n",
    "    print (\"it is one-dimensional\")\n",
    "else: \n",
    "    print(\"it is not one-dimensional\")"
   ]
  },
  {
   "cell_type": "markdown",
   "metadata": {},
   "source": [
    "For the **if** statement, rather than printing a message, print the shape of the numpy array from the previous question (i.e. the selection).\n",
    "\n",
    "For the **else** statement, rather than printing a message, include the following code lines to be executed (i.e. if the array is not one-dimensional):\n",
    "\n",
    "arrayname_1d = arrayname.flatten()\n",
    "print(arrayname_1d.shape)"
   ]
  },
  {
   "cell_type": "code",
   "execution_count": 25,
   "metadata": {},
   "outputs": [
    {
     "name": "stdout",
     "output_type": "stream",
     "text": [
      "[0.86 1.37 1.61 3.46 1.35 0.93 0.35 2.56 0.54 1.02 2.25 0.49]\n",
      "(12,)\n"
     ]
    }
   ],
   "source": [
    "if monthly_precip_1989.ndim == 1:\n",
    "    print (\"monthly_precip_1989.shape\")\n",
    "else: \n",
    "    monthly_precip_1989_1d = monthly_precip_1989.flatten()\n",
    "    print(monthly_precip_1989_1d)\n",
    "    \n",
    "print (monthly_precip_1989_1d.shape)"
   ]
  },
  {
   "cell_type": "markdown",
   "metadata": {},
   "source": [
    "Write a Conditional Statement to Check Dimensions of Two Numpy Arrays.\n",
    "\n",
    "**Manually create** a one-dimensional numpy array that contains the month names (i.e. January to December).\n",
    "\n",
    "Write a conditional statement to *check that this new array for month names has the same* **shape** *as the numpy array from the previous question (monthly_precip_1989_1d)*.\n",
    "\n",
    "Print a message stating whether are not these arrays have the same shape and can be plotted together.\n",
    "\n"
   ]
  },
  {
   "cell_type": "code",
   "execution_count": 27,
   "metadata": {},
   "outputs": [
    {
     "name": "stdout",
     "output_type": "stream",
     "text": [
      "(12,)\n",
      "they have the same shape\n"
     ]
    }
   ],
   "source": [
    "months = np.array([\"Jan\", \"Feb\", \"March\", \"April\", \"May\",\"June\", \"July\", \"Aug\", \"Sept\", \"Oct\", \"Nov\", \"Dec\"])\n",
    "print (months.shape)\n",
    "\n",
    "if months.shape==monthly_precip_1989_1d.shape :\n",
    "    print (\"they have the same shape\")\n",
    "else:\n",
    "    print (\"they do not have the same shape\")"
   ]
  },
  {
   "cell_type": "markdown",
   "metadata": {},
   "source": [
    "Write a sentence or two on how you could expand on your conditional statement from the previous question to create a plot from the two numpy arrays if they do indeed have the same shape.\n",
    "\n",
    "* instead of printing \"they have the same shape\" one could include the sequence of code for creating a plot. The else statement could print the individual shapes of each dataset ( monthly_precip_1989_1d.shape , months.shape )"
   ]
  },
  {
   "cell_type": "markdown",
   "metadata": {},
   "source": [
    "Write a loop to run the info() method on the two pandas dataframes that you imported in this activity, and print the results."
   ]
  },
  {
   "cell_type": "code",
   "execution_count": 28,
   "metadata": {},
   "outputs": [
    {
     "name": "stdout",
     "output_type": "stream",
     "text": [
      "   Year  January  February  March  April   May  June  July  August  September  \\\n",
      "0  1991     29.9      40.9   42.8   47.8  58.2  66.6  70.5    69.2       61.7   \n",
      "1  1992     35.9      40.6   43.3   54.3  59.1  62.9  68.3    66.3       64.4   \n",
      "2  1993     28.3      30.6   42.4   47.6  57.5  64.5  69.5    67.3       58.8   \n",
      "3  1994     35.5      31.9   43.9   47.6  60.8  70.0  71.2    70.9       65.0   \n",
      "4  1995     34.5      38.3   42.1   45.1  50.9  62.4  70.5    74.0       60.4   \n",
      "\n",
      "   October  November  December  \n",
      "0     52.1      36.8      35.3  \n",
      "1     54.1      34.1      29.2  \n",
      "2     48.7      35.6      35.4  \n",
      "3     50.6      36.6      36.1  \n",
      "4     50.5      45.0      36.3  \n",
      "\n",
      "   Year  January  February  March  April   May  June  July  August  September  \\\n",
      "0  1996     29.7      37.7   37.9   50.4  58.9  66.9  71.5    69.5       60.8   \n",
      "1  1997     31.3      32.8   45.5   42.8  57.4  66.5  71.4    68.7       64.0   \n",
      "2  1998     36.5      36.4   38.7   46.5  58.8  62.1  72.8    70.7       67.1   \n",
      "3  1999     36.4      42.1   46.0   44.5  55.6  64.8  73.5    69.3       58.5   \n",
      "4  2000     36.4      41.0   42.9   51.2  61.0  67.4  74.7    73.0       63.1   \n",
      "\n",
      "   October  November  December  \n",
      "0     53.1      40.6      36.5  \n",
      "1     52.7      37.9      33.9  \n",
      "2     50.4      44.0      32.2  \n",
      "3     51.9      48.0      36.9  \n",
      "4     49.6      31.4      31.2  \n"
     ]
    }
   ],
   "source": [
    "print (temp_1991_to_1995_months)\n",
    "print (\"\")\n",
    "print (temp_1996_to_2000_months)"
   ]
  },
  {
   "cell_type": "code",
   "execution_count": 38,
   "metadata": {},
   "outputs": [
    {
     "ename": "SyntaxError",
     "evalue": "invalid syntax (<ipython-input-38-51f3b435ba44>, line 3)",
     "output_type": "error",
     "traceback": [
      "\u001b[0;36m  File \u001b[0;32m\"<ipython-input-38-51f3b435ba44>\"\u001b[0;36m, line \u001b[0;32m3\u001b[0m\n\u001b[0;31m    for column in columnlist:\u001b[0m\n\u001b[0m      ^\u001b[0m\n\u001b[0;31mSyntaxError\u001b[0m\u001b[0;31m:\u001b[0m invalid syntax\n"
     ]
    }
   ],
   "source": [
    "columnlist = temp_1991_to_1995_months[[\"January\"]], temp_1991_to_1995_months[[\"February\"]], temp_1991_to_1995_months [[\"March\"]], temp_1991_to_1995_months[[\"April\"]], temp_1991_to_1995_months[[\"May\"]], temp_1991_to_1995_months[[\"June\"]], temp_1991_to_1995_months[[\"July\"]], temp_1991_to_1995_months[[\"August\"]],temp_1991_to_1995_months [[\"September\"]], temp_1991_to_1995_months[[\"October\"]],temp_1991_to_1995_months[[\"November\"]], temp_1991_to_1995_months[[\"December]]\"]\n",
    "\n",
    "for column in columnlist:\n",
    "    temp_1991_to_1995_months[[column]]=temp_1991_to_1995_months[[column]].info()\n"
   ]
  },
  {
   "cell_type": "markdown",
   "metadata": {},
   "source": [
    "Write a loop to run the .describe() method on each column in the pandas dataframe containing the data for 1996 to 2000)."
   ]
  },
  {
   "cell_type": "code",
   "execution_count": null,
   "metadata": {},
   "outputs": [],
   "source": []
  },
  {
   "cell_type": "markdown",
   "metadata": {},
   "source": [
    "Write a function that calculates the mean across columns of a numpy array."
   ]
  },
  {
   "cell_type": "code",
   "execution_count": 41,
   "metadata": {},
   "outputs": [],
   "source": [
    "def np_mean_column(array):\n",
    "    # calculates the mean of columns\n",
    "    # input are single value variables, decimals, and numpy \n",
    "    # input cannot be lists or pandas\n",
    "    mean_column=np.mean(array,axis=0)\n",
    "    return (mean_column)\n"
   ]
  },
  {
   "cell_type": "markdown",
   "metadata": {},
   "source": [
    "Calculate median of columns in a numpy array on the numpy array containing data for 1993 to 1997. Save the output to a new numpy array"
   ]
  },
  {
   "cell_type": "code",
   "execution_count": 45,
   "metadata": {},
   "outputs": [
    {
     "name": "stdout",
     "output_type": "stream",
     "text": [
      "[0.902 1.184 1.608 3.746 3.898 2.96  1.114 2.19  2.444 1.402 1.776 0.468]\n"
     ]
    }
   ],
   "source": [
    "mean_monthly_precip_1993_to_1997 = np_mean_column(monthly_precip_1993_to_1997)\n",
    "print (mean_monthly_precip_1993_to_1997)"
   ]
  },
  {
   "cell_type": "markdown",
   "metadata": {},
   "source": [
    "Write a sentence or two on what you would need to know how to do, in order to save the output from a function that is running on multiple arrays in a loop.\n",
    "\n",
    "* the name that is saved as an output of the function would need to contain variables that change. Similar to how the graph was created in homework 3 with \"year\". You would need to know how to code the output to change the variable in \"\" as it loops through the arrays. \n"
   ]
  },
  {
   "cell_type": "code",
   "execution_count": null,
   "metadata": {},
   "outputs": [],
   "source": []
  }
 ],
 "metadata": {
  "kernelspec": {
   "display_name": "Python 3",
   "language": "python",
   "name": "python3"
  },
  "language_info": {
   "codemirror_mode": {
    "name": "ipython",
    "version": 3
   },
   "file_extension": ".py",
   "mimetype": "text/x-python",
   "name": "python",
   "nbconvert_exporter": "python",
   "pygments_lexer": "ipython3",
   "version": "3.6.5"
  }
 },
 "nbformat": 4,
 "nbformat_minor": 2
}
