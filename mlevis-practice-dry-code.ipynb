{
 "cells": [
  {
   "cell_type": "markdown",
   "metadata": {},
   "source": [
    "# Practice Dry Code \n",
    "\n",
    "**Author: ** Michael Levis\n",
    "\n",
    "**Date: ** 08/20/2018"
   ]
  },
  {
   "cell_type": "markdown",
   "metadata": {},
   "source": [
    "Import python packages needed to access directories and files, download files, use numpy arrays, use pandas dataframes, and plot data."
   ]
  },
  {
   "cell_type": "code",
   "execution_count": 1,
   "metadata": {},
   "outputs": [
    {
     "name": "stdout",
     "output_type": "stream",
     "text": [
      "download of python packages successful\n"
     ]
    }
   ],
   "source": [
    "# import os to access directories and files\n",
    "import os\n",
    "# import numpy arrays as np\n",
    "import numpy as np\n",
    "# import pandas dataframes as pd\n",
    "import pandas as pd\n",
    "# import urllib.request to download files\n",
    "import urllib.request\n",
    "# import matplotlib to plot data\n",
    "import matplotlib.pyplot as plt\n",
    "# print download of packages successful\n",
    "print(\"download of python packages successful\")"
   ]
  },
  {
   "cell_type": "markdown",
   "metadata": {},
   "source": [
    "Check current working directory."
   ]
  },
  {
   "cell_type": "code",
   "execution_count": 2,
   "metadata": {},
   "outputs": [
    {
     "data": {
      "text/plain": [
       "'C:\\\\Users\\\\Michael Levis\\\\earth-analytics-bootcamp\\\\ea-bootcamp-practice-dry-code'"
      ]
     },
     "execution_count": 2,
     "metadata": {},
     "output_type": "execute_result"
    }
   ],
   "source": [
    "# Check current working directory\n",
    "os.getcwd()"
   ]
  },
  {
   "cell_type": "markdown",
   "metadata": {},
   "source": [
    "Change to earth-analytics-bootcamp directory to access data files."
   ]
  },
  {
   "cell_type": "code",
   "execution_count": 3,
   "metadata": {},
   "outputs": [],
   "source": [
    "# change to earth-analytics-bootcamp directory\n",
    "os.chdir(\"/Users/Michael Levis/earth-analytics-bootcamp/\")"
   ]
  },
  {
   "cell_type": "markdown",
   "metadata": {},
   "source": [
    "Download .csv files of monthly precipitation (inches) from figshare and import the data to numpy arrays to data directory."
   ]
  },
  {
   "cell_type": "code",
   "execution_count": 4,
   "metadata": {},
   "outputs": [
    {
     "name": "stdout",
     "output_type": "stream",
     "text": [
      "download of .csv files successful\n"
     ]
    }
   ],
   "source": [
    "# download monthly precipitation in inches for years 1988 to 1992 as monthly-precip-1988-to-1992.csv\n",
    "urllib.request.urlretrieve (url = \"https://ndownloader.figshare.com/files/12807380\", filename = \"data/monthly-precip-1988-to-1992.csv\")\n",
    "# download monthly precipitation in inches for years 1993 to 1997 as monthly-precip-1993-to-1997.csv\n",
    "urllib.request.urlretrieve (url = \"https://ndownloader.figshare.com/files/12807383\", filename = \"data/monthly-precip-1993-to-1997.csv\")\n",
    "# print download of packages successful\n",
    "print(\"download of .csv files successful\")"
   ]
  },
  {
   "cell_type": "markdown",
   "metadata": {},
   "source": [
    "Import packages into numpy arrays using np.loadtext function, and assigning delimiter (,) for .csv files."
   ]
  },
  {
   "cell_type": "code",
   "execution_count": 5,
   "metadata": {},
   "outputs": [
    {
     "data": {
      "text/plain": [
       "(array([[0.4 , 1.14, 2.53, 1.48, 3.7 , 0.7 , 0.71, 1.33, 2.02, 0.03, 0.75,\n",
       "         2.16],\n",
       "        [1.19, 1.27, 0.97, 1.95, 2.68, 2.93, 1.43, 1.63, 3.54, 1.4 , 0.09,\n",
       "         1.54],\n",
       "        [1.04, 1.32, 4.55, 2.16, 1.73, 0.39, 4.23, 1.13, 1.84, 0.96, 1.6 ,\n",
       "         0.75],\n",
       "        [1.05, 0.15, 0.43, 2.41, 2.9 , 3.59, 3.11, 2.08, 1.21, 0.93, 3.3 ,\n",
       "         0.01],\n",
       "        [0.67, 0.  , 5.17, 0.46, 1.7 , 0.96, 1.13, 3.08, 0.02, 0.79, 2.56,\n",
       "         0.84]]),\n",
       " array([[0.25, 0.9 , 2.15, 2.56, 1.73, 3.38, 1.4 , 1.04, 3.32, 2.42, 2.17,\n",
       "         0.55],\n",
       "        [0.86, 1.37, 1.61, 3.46, 1.35, 0.93, 0.35, 2.56, 0.54, 1.02, 2.25,\n",
       "         0.49],\n",
       "        [0.64, 1.53, 1.21, 5.45, 9.59, 4.03, 0.72, 1.45, 2.96, 0.59, 1.51,\n",
       "         0.25],\n",
       "        [1.89, 0.29, 2.16, 1.49, 4.63, 2.77, 1.96, 0.63, 3.48, 0.28, 1.43,\n",
       "         0.37],\n",
       "        [0.87, 1.83, 0.91, 5.77, 2.19, 3.69, 1.14, 5.27, 1.92, 2.7 , 1.52,\n",
       "         0.68]]))"
      ]
     },
     "execution_count": 5,
     "metadata": {},
     "output_type": "execute_result"
    }
   ],
   "source": [
    "# import .csv files, comma delimited.\n",
    "monthly_precip_1988_to_1992 = np.loadtxt(fname = \"/Users/Michael Levis/earth-analytics-bootcamp/data/monthly-precip-1988-to-1992.csv\", delimiter = \",\")\n",
    "monthly_precip_1993_to_1997 = np.loadtxt(fname = \"/Users/Michael Levis/earth-analytics-bootcamp/data/monthly-precip-1993-to-1997.csv\", delimiter = \",\")\n",
    "# print numpy arrays\n",
    "monthly_precip_1988_to_1992, monthly_precip_1993_to_1997"
   ]
  },
  {
   "cell_type": "markdown",
   "metadata": {},
   "source": [
    "Download .csv files of monthly temperature in Fahrenheit and import the data to pandas dataframes."
   ]
  },
  {
   "cell_type": "code",
   "execution_count": 6,
   "metadata": {},
   "outputs": [
    {
     "name": "stdout",
     "output_type": "stream",
     "text": [
      "download of files successful\n"
     ]
    }
   ],
   "source": [
    "# download csv files from figshare using urllib.request\n",
    "urllib.request.urlretrieve(url = \"https://ndownloader.figshare.com/files/12807389\", filename = \"data/temp-1991-to-1995-months.csv\")\n",
    "urllib.request.urlretrieve(url = \"https://ndownloader.figshare.com/files/12807386\", filename = \"data/temp-1996-to-2000-months.csv\")\n",
    "# print download successful\n",
    "print(\"download of files successful\")"
   ]
  },
  {
   "cell_type": "markdown",
   "metadata": {},
   "source": [
    "Import data to pandas dataframes and print output"
   ]
  },
  {
   "cell_type": "code",
   "execution_count": 7,
   "metadata": {},
   "outputs": [
    {
     "data": {
      "text/html": [
       "<div>\n",
       "<style scoped>\n",
       "    .dataframe tbody tr th:only-of-type {\n",
       "        vertical-align: middle;\n",
       "    }\n",
       "\n",
       "    .dataframe tbody tr th {\n",
       "        vertical-align: top;\n",
       "    }\n",
       "\n",
       "    .dataframe thead th {\n",
       "        text-align: right;\n",
       "    }\n",
       "</style>\n",
       "<table border=\"1\" class=\"dataframe\">\n",
       "  <thead>\n",
       "    <tr style=\"text-align: right;\">\n",
       "      <th></th>\n",
       "      <th>Year</th>\n",
       "      <th>January</th>\n",
       "      <th>February</th>\n",
       "      <th>March</th>\n",
       "      <th>April</th>\n",
       "      <th>May</th>\n",
       "      <th>June</th>\n",
       "      <th>July</th>\n",
       "      <th>August</th>\n",
       "      <th>September</th>\n",
       "      <th>October</th>\n",
       "      <th>November</th>\n",
       "      <th>December</th>\n",
       "    </tr>\n",
       "  </thead>\n",
       "  <tbody>\n",
       "    <tr>\n",
       "      <th>0</th>\n",
       "      <td>1991</td>\n",
       "      <td>29.9</td>\n",
       "      <td>40.9</td>\n",
       "      <td>42.8</td>\n",
       "      <td>47.8</td>\n",
       "      <td>58.2</td>\n",
       "      <td>66.6</td>\n",
       "      <td>70.5</td>\n",
       "      <td>69.2</td>\n",
       "      <td>61.7</td>\n",
       "      <td>52.1</td>\n",
       "      <td>36.8</td>\n",
       "      <td>35.3</td>\n",
       "    </tr>\n",
       "    <tr>\n",
       "      <th>1</th>\n",
       "      <td>1992</td>\n",
       "      <td>35.9</td>\n",
       "      <td>40.6</td>\n",
       "      <td>43.3</td>\n",
       "      <td>54.3</td>\n",
       "      <td>59.1</td>\n",
       "      <td>62.9</td>\n",
       "      <td>68.3</td>\n",
       "      <td>66.3</td>\n",
       "      <td>64.4</td>\n",
       "      <td>54.1</td>\n",
       "      <td>34.1</td>\n",
       "      <td>29.2</td>\n",
       "    </tr>\n",
       "    <tr>\n",
       "      <th>2</th>\n",
       "      <td>1993</td>\n",
       "      <td>28.3</td>\n",
       "      <td>30.6</td>\n",
       "      <td>42.4</td>\n",
       "      <td>47.6</td>\n",
       "      <td>57.5</td>\n",
       "      <td>64.5</td>\n",
       "      <td>69.5</td>\n",
       "      <td>67.3</td>\n",
       "      <td>58.8</td>\n",
       "      <td>48.7</td>\n",
       "      <td>35.6</td>\n",
       "      <td>35.4</td>\n",
       "    </tr>\n",
       "    <tr>\n",
       "      <th>3</th>\n",
       "      <td>1994</td>\n",
       "      <td>35.5</td>\n",
       "      <td>31.9</td>\n",
       "      <td>43.9</td>\n",
       "      <td>47.6</td>\n",
       "      <td>60.8</td>\n",
       "      <td>70.0</td>\n",
       "      <td>71.2</td>\n",
       "      <td>70.9</td>\n",
       "      <td>65.0</td>\n",
       "      <td>50.6</td>\n",
       "      <td>36.6</td>\n",
       "      <td>36.1</td>\n",
       "    </tr>\n",
       "    <tr>\n",
       "      <th>4</th>\n",
       "      <td>1995</td>\n",
       "      <td>34.5</td>\n",
       "      <td>38.3</td>\n",
       "      <td>42.1</td>\n",
       "      <td>45.1</td>\n",
       "      <td>50.9</td>\n",
       "      <td>62.4</td>\n",
       "      <td>70.5</td>\n",
       "      <td>74.0</td>\n",
       "      <td>60.4</td>\n",
       "      <td>50.5</td>\n",
       "      <td>45.0</td>\n",
       "      <td>36.3</td>\n",
       "    </tr>\n",
       "  </tbody>\n",
       "</table>\n",
       "</div>"
      ],
      "text/plain": [
       "   Year  January  February  March  April   May  June  July  August  September  \\\n",
       "0  1991     29.9      40.9   42.8   47.8  58.2  66.6  70.5    69.2       61.7   \n",
       "1  1992     35.9      40.6   43.3   54.3  59.1  62.9  68.3    66.3       64.4   \n",
       "2  1993     28.3      30.6   42.4   47.6  57.5  64.5  69.5    67.3       58.8   \n",
       "3  1994     35.5      31.9   43.9   47.6  60.8  70.0  71.2    70.9       65.0   \n",
       "4  1995     34.5      38.3   42.1   45.1  50.9  62.4  70.5    74.0       60.4   \n",
       "\n",
       "   October  November  December  \n",
       "0     52.1      36.8      35.3  \n",
       "1     54.1      34.1      29.2  \n",
       "2     48.7      35.6      35.4  \n",
       "3     50.6      36.6      36.1  \n",
       "4     50.5      45.0      36.3  "
      ]
     },
     "execution_count": 7,
     "metadata": {},
     "output_type": "execute_result"
    }
   ],
   "source": [
    "# import to pandas dataframes\n",
    "temp_1991_to_1995 = pd.read_csv(\"/Users/Michael Levis/earth-analytics-bootcamp/data/temp-1991-to-1995-months.csv\")\n",
    "temp_1996_to_2000 = pd.read_csv(\"/Users/Michael Levis/earth-analytics-bootcamp/data/temp-1996-to-2000-months.csv\")\n",
    "# print dataframe temp_1991_to_1995\n",
    "temp_1991_to_1995"
   ]
  },
  {
   "cell_type": "code",
   "execution_count": 8,
   "metadata": {},
   "outputs": [
    {
     "data": {
      "text/html": [
       "<div>\n",
       "<style scoped>\n",
       "    .dataframe tbody tr th:only-of-type {\n",
       "        vertical-align: middle;\n",
       "    }\n",
       "\n",
       "    .dataframe tbody tr th {\n",
       "        vertical-align: top;\n",
       "    }\n",
       "\n",
       "    .dataframe thead th {\n",
       "        text-align: right;\n",
       "    }\n",
       "</style>\n",
       "<table border=\"1\" class=\"dataframe\">\n",
       "  <thead>\n",
       "    <tr style=\"text-align: right;\">\n",
       "      <th></th>\n",
       "      <th>Year</th>\n",
       "      <th>January</th>\n",
       "      <th>February</th>\n",
       "      <th>March</th>\n",
       "      <th>April</th>\n",
       "      <th>May</th>\n",
       "      <th>June</th>\n",
       "      <th>July</th>\n",
       "      <th>August</th>\n",
       "      <th>September</th>\n",
       "      <th>October</th>\n",
       "      <th>November</th>\n",
       "      <th>December</th>\n",
       "    </tr>\n",
       "  </thead>\n",
       "  <tbody>\n",
       "    <tr>\n",
       "      <th>0</th>\n",
       "      <td>1996</td>\n",
       "      <td>29.7</td>\n",
       "      <td>37.7</td>\n",
       "      <td>37.9</td>\n",
       "      <td>50.4</td>\n",
       "      <td>58.9</td>\n",
       "      <td>66.9</td>\n",
       "      <td>71.5</td>\n",
       "      <td>69.5</td>\n",
       "      <td>60.8</td>\n",
       "      <td>53.1</td>\n",
       "      <td>40.6</td>\n",
       "      <td>36.5</td>\n",
       "    </tr>\n",
       "    <tr>\n",
       "      <th>1</th>\n",
       "      <td>1997</td>\n",
       "      <td>31.3</td>\n",
       "      <td>32.8</td>\n",
       "      <td>45.5</td>\n",
       "      <td>42.8</td>\n",
       "      <td>57.4</td>\n",
       "      <td>66.5</td>\n",
       "      <td>71.4</td>\n",
       "      <td>68.7</td>\n",
       "      <td>64.0</td>\n",
       "      <td>52.7</td>\n",
       "      <td>37.9</td>\n",
       "      <td>33.9</td>\n",
       "    </tr>\n",
       "    <tr>\n",
       "      <th>2</th>\n",
       "      <td>1998</td>\n",
       "      <td>36.5</td>\n",
       "      <td>36.4</td>\n",
       "      <td>38.7</td>\n",
       "      <td>46.5</td>\n",
       "      <td>58.8</td>\n",
       "      <td>62.1</td>\n",
       "      <td>72.8</td>\n",
       "      <td>70.7</td>\n",
       "      <td>67.1</td>\n",
       "      <td>50.4</td>\n",
       "      <td>44.0</td>\n",
       "      <td>32.2</td>\n",
       "    </tr>\n",
       "    <tr>\n",
       "      <th>3</th>\n",
       "      <td>1999</td>\n",
       "      <td>36.4</td>\n",
       "      <td>42.1</td>\n",
       "      <td>46.0</td>\n",
       "      <td>44.5</td>\n",
       "      <td>55.6</td>\n",
       "      <td>64.8</td>\n",
       "      <td>73.5</td>\n",
       "      <td>69.3</td>\n",
       "      <td>58.5</td>\n",
       "      <td>51.9</td>\n",
       "      <td>48.0</td>\n",
       "      <td>36.9</td>\n",
       "    </tr>\n",
       "    <tr>\n",
       "      <th>4</th>\n",
       "      <td>2000</td>\n",
       "      <td>36.4</td>\n",
       "      <td>41.0</td>\n",
       "      <td>42.9</td>\n",
       "      <td>51.2</td>\n",
       "      <td>61.0</td>\n",
       "      <td>67.4</td>\n",
       "      <td>74.7</td>\n",
       "      <td>73.0</td>\n",
       "      <td>63.1</td>\n",
       "      <td>49.6</td>\n",
       "      <td>31.4</td>\n",
       "      <td>31.2</td>\n",
       "    </tr>\n",
       "  </tbody>\n",
       "</table>\n",
       "</div>"
      ],
      "text/plain": [
       "   Year  January  February  March  April   May  June  July  August  September  \\\n",
       "0  1996     29.7      37.7   37.9   50.4  58.9  66.9  71.5    69.5       60.8   \n",
       "1  1997     31.3      32.8   45.5   42.8  57.4  66.5  71.4    68.7       64.0   \n",
       "2  1998     36.5      36.4   38.7   46.5  58.8  62.1  72.8    70.7       67.1   \n",
       "3  1999     36.4      42.1   46.0   44.5  55.6  64.8  73.5    69.3       58.5   \n",
       "4  2000     36.4      41.0   42.9   51.2  61.0  67.4  74.7    73.0       63.1   \n",
       "\n",
       "   October  November  December  \n",
       "0     53.1      40.6      36.5  \n",
       "1     52.7      37.9      33.9  \n",
       "2     50.4      44.0      32.2  \n",
       "3     51.9      48.0      36.9  \n",
       "4     49.6      31.4      31.2  "
      ]
     },
     "execution_count": 8,
     "metadata": {},
     "output_type": "execute_result"
    }
   ],
   "source": [
    "# print dataframe temp_1996_to_2000\n",
    "temp_1996_to_2000"
   ]
  },
  {
   "cell_type": "markdown",
   "metadata": {},
   "source": [
    "*Question 1*\n",
    "\n",
    "Select the second row of data (including all columns) from the numpy array containing the data for 1988 to 1992, and save to a new numpy array.\n",
    "\n",
    "Second row is row index 1 and corresponds with year 1989. Selection includes data in all columns, so there is no value given for column index."
   ]
  },
  {
   "cell_type": "code",
   "execution_count": 9,
   "metadata": {},
   "outputs": [
    {
     "data": {
      "text/plain": [
       "array([[1.19, 1.27, 0.97, 1.95, 2.68, 2.93, 1.43, 1.63, 3.54, 1.4 , 0.09,\n",
       "        1.54]])"
      ]
     },
     "execution_count": 9,
     "metadata": {},
     "output_type": "execute_result"
    }
   ],
   "source": [
    "# identify second row of data and save as numpy array precip_1989\n",
    "precip_1989 = np.array([monthly_precip_1988_to_1992[1,]])\n",
    "# print array\n",
    "precip_1989"
   ]
  },
  {
   "cell_type": "markdown",
   "metadata": {},
   "source": [
    "*Question 2*\n",
    "\n",
    "Write a conditional statement that checks whether the numpy array created in the previous question (i.e. the selection) is a one-dimensional numpy array.\n",
    "\n",
    "Apply .ndim function to new array precip_1989 with conditional statement to verify dimensions. Print results based on whether it is one dimensional."
   ]
  },
  {
   "cell_type": "code",
   "execution_count": 10,
   "metadata": {},
   "outputs": [
    {
     "name": "stdout",
     "output_type": "stream",
     "text": [
      "this is not a one dimensional array\n"
     ]
    }
   ],
   "source": [
    "# write another conditional statement to verify that array monthly_precip_1989 is one dimensional\n",
    "if precip_1989.ndim == 1:\n",
    "    print(\"this is a one dimensional array\")\n",
    "else:\n",
    "    print(\"this is not a one dimensional array\")"
   ]
  },
  {
   "cell_type": "markdown",
   "metadata": {},
   "source": [
    "*Question 3*\n",
    "\n",
    "Modify your conditional statement from the previous question, so that your if and else statements execute different code, not just printing messages.\n",
    "\n",
    "Create variable x to equal number of dimensions in array precip_1989. Apply conditional statement to execute code based on the outcome. If the number of dimensions equal 1, print the shape of the data. If the number of dimensions are more than 1, apply  function to flatten array to create a new array."
   ]
  },
  {
   "cell_type": "code",
   "execution_count": 11,
   "metadata": {},
   "outputs": [
    {
     "name": "stdout",
     "output_type": "stream",
     "text": [
      "(12,)\n"
     ]
    }
   ],
   "source": [
    "# create variable for precip_1989.ndim\n",
    "x = precip_1989.ndim\n",
    "# write conditional statement to verify that array precip_1989 is one dimensional\n",
    "if x in precip_1989 == 1:\n",
    "    print(precip_1989.shape)\n",
    "else:\n",
    "    precip_1989_1d = precip_1989.flatten()\n",
    "    print(precip_1989_1d.shape)"
   ]
  },
  {
   "cell_type": "markdown",
   "metadata": {},
   "source": [
    "*Question 4:*\n",
    "\n",
    "Manually create a one-dimensional numpy array that contains the month names (i.e. January to December). Write a conditional statement to check that this new array for month names has the same shape as the numpy array from the previous question (i.e. the selection).\n",
    "\n",
    "Print a message stating whether are not these arrays have the same shape and can be plotted together.\n",
    "\n",
    "Create numpy array of months from January to December upon which to iterate. Apply shape function to month list and one dimensional array for precipitation in 1989. Print message depending on whether the shapes match."
   ]
  },
  {
   "cell_type": "code",
   "execution_count": 12,
   "metadata": {},
   "outputs": [
    {
     "name": "stdout",
     "output_type": "stream",
     "text": [
      "the arrays have the same shape and can be plotted together\n"
     ]
    }
   ],
   "source": [
    "# create list of months\n",
    "monthlist = np.array([\"January\", \"February\", \"March\", \"April\", \"May\", \"June\", \"July\", \"August\", \"September\", \"October\", \"November\", \"December\"])\n",
    "# write conditional statement to verify that monthlist has same shape as precip_1989_1d\n",
    "if monthlist.shape == precip_1989_1d.shape:\n",
    "    print(\"the arrays have the same shape and can be plotted together\")\n",
    "else:\n",
    "    print(\"the arrays do not have the same shape and cannot be plotted together\")"
   ]
  },
  {
   "cell_type": "markdown",
   "metadata": {},
   "source": [
    "*Question 5:*\n",
    "\n",
    "Write a sentence or two on how you could expand on your conditional statement from the previous question to create a plot from the two numpy arrays if they do indeed have the same shape.\n",
    "\n",
    "Create variable containing the arrays monthlist and precip_1989_1d. Write a conditional statement with instructions to create a plot if the arrays match. Otherwise, the function to flatten the data could be applied before plotting.  Additionally, a function could be made to create the plot, which could be applied in both scenarios instead of writing out the entire  "
   ]
  },
  {
   "cell_type": "markdown",
   "metadata": {},
   "source": [
    "*Question 6: Loop on Pandas Dataframes*\n",
    "\n",
    "Write a loop to run the info() method on the two pandas dataframes that you imported in this activity, and print the results.\n",
    "\n",
    "Create list dataframe_list of the two pandas dataframes with temperature data. Write loop to apply the .info function to all dataframes in the list."
   ]
  },
  {
   "cell_type": "code",
   "execution_count": 13,
   "metadata": {},
   "outputs": [
    {
     "name": "stdout",
     "output_type": "stream",
     "text": [
      "<class 'pandas.core.frame.DataFrame'>\n",
      "RangeIndex: 5 entries, 0 to 4\n",
      "Data columns (total 13 columns):\n",
      "Year         5 non-null int64\n",
      "January      5 non-null float64\n",
      "February     5 non-null float64\n",
      "March        5 non-null float64\n",
      "April        5 non-null float64\n",
      "May          5 non-null float64\n",
      "June         5 non-null float64\n",
      "July         5 non-null float64\n",
      "August       5 non-null float64\n",
      "September    5 non-null float64\n",
      "October      5 non-null float64\n",
      "November     5 non-null float64\n",
      "December     5 non-null float64\n",
      "dtypes: float64(12), int64(1)\n",
      "memory usage: 600.0 bytes\n",
      "None\n",
      "\n",
      "<class 'pandas.core.frame.DataFrame'>\n",
      "RangeIndex: 5 entries, 0 to 4\n",
      "Data columns (total 13 columns):\n",
      "Year         5 non-null int64\n",
      "January      5 non-null float64\n",
      "February     5 non-null float64\n",
      "March        5 non-null float64\n",
      "April        5 non-null float64\n",
      "May          5 non-null float64\n",
      "June         5 non-null float64\n",
      "July         5 non-null float64\n",
      "August       5 non-null float64\n",
      "September    5 non-null float64\n",
      "October      5 non-null float64\n",
      "November     5 non-null float64\n",
      "December     5 non-null float64\n",
      "dtypes: float64(12), int64(1)\n",
      "memory usage: 600.0 bytes\n",
      "None\n",
      "\n"
     ]
    }
   ],
   "source": [
    "# create list of pandas dataframes\n",
    "dataframe_list = [temp_1991_to_1995, temp_1996_to_2000]\n",
    "# execute loop to print info for each dataframe\n",
    "for dataframe in dataframe_list:\n",
    "    print(dataframe.info())\n",
    "    print(\"\")"
   ]
  },
  {
   "cell_type": "markdown",
   "metadata": {},
   "source": [
    "*Question 7: Loop on Columns in Pandas Dataframes\n",
    "Write a loop to run the .describe() method on each column in the pandas dataframe containing the data for 1996 to 2000).*"
   ]
  },
  {
   "cell_type": "code",
   "execution_count": 14,
   "metadata": {},
   "outputs": [
    {
     "name": "stdout",
     "output_type": "stream",
     "text": [
      "              Year    January   February      March      April      May  \\\n",
      "count     5.000000   5.000000   5.000000   5.000000   5.000000   5.0000   \n",
      "mean   1998.000000  34.060000  38.000000  42.200000  47.080000  58.3400   \n",
      "std       1.581139   3.298939   3.724916   3.760319   3.650616   1.9995   \n",
      "min    1996.000000  29.700000  32.800000  37.900000  42.800000  55.6000   \n",
      "25%    1997.000000  31.300000  36.400000  38.700000  44.500000  57.4000   \n",
      "50%    1998.000000  36.400000  37.700000  42.900000  46.500000  58.8000   \n",
      "75%    1999.000000  36.400000  41.000000  45.500000  50.400000  58.9000   \n",
      "max    2000.000000  36.500000  42.100000  46.000000  51.200000  61.0000   \n",
      "\n",
      "            June       July     August  September    October   November  \\\n",
      "count   5.000000   5.000000   5.000000   5.000000   5.000000   5.000000   \n",
      "mean   65.540000  72.780000  70.240000  62.700000  51.540000  40.380000   \n",
      "std     2.157081   1.391761   1.705286   3.258067   1.497665   6.285062   \n",
      "min    62.100000  71.400000  68.700000  58.500000  49.600000  31.400000   \n",
      "25%    64.800000  71.500000  69.300000  60.800000  50.400000  37.900000   \n",
      "50%    66.500000  72.800000  69.500000  63.100000  51.900000  40.600000   \n",
      "75%    66.900000  73.500000  70.700000  64.000000  52.700000  44.000000   \n",
      "max    67.400000  74.700000  73.000000  67.100000  53.100000  48.000000   \n",
      "\n",
      "       December  \n",
      "count   5.00000  \n",
      "mean   34.14000  \n",
      "std     2.53239  \n",
      "min    31.20000  \n",
      "25%    32.20000  \n",
      "50%    33.90000  \n",
      "75%    36.50000  \n",
      "max    36.90000  \n"
     ]
    }
   ],
   "source": [
    "print(temp_1996_to_2000.describe())"
   ]
  },
  {
   "cell_type": "code",
   "execution_count": 15,
   "metadata": {},
   "outputs": [
    {
     "name": "stdout",
     "output_type": "stream",
     "text": [
      "         January\n",
      "count   5.000000\n",
      "mean   34.060000\n",
      "std     3.298939\n",
      "min    29.700000\n",
      "25%    31.300000\n",
      "50%    36.400000\n",
      "75%    36.400000\n",
      "max    36.500000\n",
      "        February\n",
      "count   5.000000\n",
      "mean   38.000000\n",
      "std     3.724916\n",
      "min    32.800000\n",
      "25%    36.400000\n",
      "50%    37.700000\n",
      "75%    41.000000\n",
      "max    42.100000\n",
      "           March\n",
      "count   5.000000\n",
      "mean   42.200000\n",
      "std     3.760319\n",
      "min    37.900000\n",
      "25%    38.700000\n",
      "50%    42.900000\n",
      "75%    45.500000\n",
      "max    46.000000\n",
      "           April\n",
      "count   5.000000\n",
      "mean   47.080000\n",
      "std     3.650616\n",
      "min    42.800000\n",
      "25%    44.500000\n",
      "50%    46.500000\n",
      "75%    50.400000\n",
      "max    51.200000\n",
      "           May\n",
      "count   5.0000\n",
      "mean   58.3400\n",
      "std     1.9995\n",
      "min    55.6000\n",
      "25%    57.4000\n",
      "50%    58.8000\n",
      "75%    58.9000\n",
      "max    61.0000\n",
      "            June\n",
      "count   5.000000\n",
      "mean   65.540000\n",
      "std     2.157081\n",
      "min    62.100000\n",
      "25%    64.800000\n",
      "50%    66.500000\n",
      "75%    66.900000\n",
      "max    67.400000\n",
      "            July\n",
      "count   5.000000\n",
      "mean   72.780000\n",
      "std     1.391761\n",
      "min    71.400000\n",
      "25%    71.500000\n",
      "50%    72.800000\n",
      "75%    73.500000\n",
      "max    74.700000\n",
      "          August\n",
      "count   5.000000\n",
      "mean   70.240000\n",
      "std     1.705286\n",
      "min    68.700000\n",
      "25%    69.300000\n",
      "50%    69.500000\n",
      "75%    70.700000\n",
      "max    73.000000\n",
      "       September\n",
      "count   5.000000\n",
      "mean   62.700000\n",
      "std     3.258067\n",
      "min    58.500000\n",
      "25%    60.800000\n",
      "50%    63.100000\n",
      "75%    64.000000\n",
      "max    67.100000\n",
      "         October\n",
      "count   5.000000\n",
      "mean   51.540000\n",
      "std     1.497665\n",
      "min    49.600000\n",
      "25%    50.400000\n",
      "50%    51.900000\n",
      "75%    52.700000\n",
      "max    53.100000\n",
      "        November\n",
      "count   5.000000\n",
      "mean   40.380000\n",
      "std     6.285062\n",
      "min    31.400000\n",
      "25%    37.900000\n",
      "50%    40.600000\n",
      "75%    44.000000\n",
      "max    48.000000\n",
      "       December\n",
      "count   5.00000\n",
      "mean   34.14000\n",
      "std     2.53239\n",
      "min    31.20000\n",
      "25%    32.20000\n",
      "50%    33.90000\n",
      "75%    36.50000\n",
      "max    36.90000\n"
     ]
    }
   ],
   "source": [
    "columnlist = [\"January\", \"February\", \"March\", \"April\", \"May\", \"June\", \"July\", \"August\", \"September\", \"October\", \"November\", \"December\"]\n",
    "for column in columnlist:\n",
    "    print(temp_1996_to_2000[[column]].describe())"
   ]
  },
  {
   "cell_type": "code",
   "execution_count": 16,
   "metadata": {},
   "outputs": [
    {
     "name": "stdout",
     "output_type": "stream",
     "text": [
      "         January\n",
      "count   5.000000\n",
      "mean   34.060000\n",
      "std     3.298939\n",
      "min    29.700000\n",
      "25%    31.300000\n",
      "50%    36.400000\n",
      "75%    36.400000\n",
      "max    36.500000\n",
      "        February\n",
      "count   5.000000\n",
      "mean   38.000000\n",
      "std     3.724916\n",
      "min    32.800000\n",
      "25%    36.400000\n",
      "50%    37.700000\n",
      "75%    41.000000\n",
      "max    42.100000\n",
      "           March\n",
      "count   5.000000\n",
      "mean   42.200000\n",
      "std     3.760319\n",
      "min    37.900000\n",
      "25%    38.700000\n",
      "50%    42.900000\n",
      "75%    45.500000\n",
      "max    46.000000\n",
      "           April\n",
      "count   5.000000\n",
      "mean   47.080000\n",
      "std     3.650616\n",
      "min    42.800000\n",
      "25%    44.500000\n",
      "50%    46.500000\n",
      "75%    50.400000\n",
      "max    51.200000\n",
      "           May\n",
      "count   5.0000\n",
      "mean   58.3400\n",
      "std     1.9995\n",
      "min    55.6000\n",
      "25%    57.4000\n",
      "50%    58.8000\n",
      "75%    58.9000\n",
      "max    61.0000\n",
      "            June\n",
      "count   5.000000\n",
      "mean   65.540000\n",
      "std     2.157081\n",
      "min    62.100000\n",
      "25%    64.800000\n",
      "50%    66.500000\n",
      "75%    66.900000\n",
      "max    67.400000\n",
      "            July\n",
      "count   5.000000\n",
      "mean   72.780000\n",
      "std     1.391761\n",
      "min    71.400000\n",
      "25%    71.500000\n",
      "50%    72.800000\n",
      "75%    73.500000\n",
      "max    74.700000\n",
      "          August\n",
      "count   5.000000\n",
      "mean   70.240000\n",
      "std     1.705286\n",
      "min    68.700000\n",
      "25%    69.300000\n",
      "50%    69.500000\n",
      "75%    70.700000\n",
      "max    73.000000\n",
      "       September\n",
      "count   5.000000\n",
      "mean   62.700000\n",
      "std     3.258067\n",
      "min    58.500000\n",
      "25%    60.800000\n",
      "50%    63.100000\n",
      "75%    64.000000\n",
      "max    67.100000\n",
      "         October\n",
      "count   5.000000\n",
      "mean   51.540000\n",
      "std     1.497665\n",
      "min    49.600000\n",
      "25%    50.400000\n",
      "50%    51.900000\n",
      "75%    52.700000\n",
      "max    53.100000\n",
      "        November\n",
      "count   5.000000\n",
      "mean   40.380000\n",
      "std     6.285062\n",
      "min    31.400000\n",
      "25%    37.900000\n",
      "50%    40.600000\n",
      "75%    44.000000\n",
      "max    48.000000\n",
      "       December\n",
      "count   5.00000\n",
      "mean   34.14000\n",
      "std     2.53239\n",
      "min    31.20000\n",
      "25%    32.20000\n",
      "50%    33.90000\n",
      "75%    36.50000\n",
      "max    36.90000\n"
     ]
    }
   ],
   "source": [
    "columnlist = [\"January\", \"February\", \"March\", \"April\", \"May\", \"June\", \"July\", \"August\", \"September\", \"October\", \"November\", \"December\"]\n",
    "for column in columnlist:\n",
    "    temp = temp_1996_to_2000[[column]]\n",
    "    print(temp.describe())"
   ]
  },
  {
   "cell_type": "markdown",
   "metadata": {},
   "source": [
    "*Question 8: Write Function to Summarize Numpy Array Using Axes\n",
    "Write a function that calculates the mean across columns of a numpy array.*"
   ]
  },
  {
   "cell_type": "code",
   "execution_count": 17,
   "metadata": {},
   "outputs": [],
   "source": [
    "# write function to calculate mean across columns\n",
    "def mean_column(x):\n",
    "    x = np.mean(x, axis = 0)\n",
    "    return(x)"
   ]
  },
  {
   "cell_type": "markdown",
   "metadata": {},
   "source": [
    "*Question 9: Execute Function and Save Output to New Numpy Array\n",
    "Run the function created in the previous question (i.e. to calculate mean of columns in a numpy array) on the numpy array containing data for 1993 to 1997. Save the output to a new numpy array.*"
   ]
  },
  {
   "cell_type": "code",
   "execution_count": 18,
   "metadata": {},
   "outputs": [
    {
     "data": {
      "text/plain": [
       "array([0.902, 1.184, 1.608, 3.746, 3.898, 2.96 , 1.114, 2.19 , 2.444,\n",
       "       1.402, 1.776, 0.468])"
      ]
     },
     "execution_count": 18,
     "metadata": {},
     "output_type": "execute_result"
    }
   ],
   "source": [
    "# apply function to monthly_precip_1993_to_1997 to create new array mean_precip \n",
    "mean_precip = mean_column(monthly_precip_1993_to_1997)\n",
    "# print output\n",
    "mean_precip"
   ]
  },
  {
   "cell_type": "markdown",
   "metadata": {},
   "source": [
    "*Question 10: Practice Pseudo Coding\n",
    "You have already learned how to save the output from one run of a function (see Question 9). What if you wanted to run the function on multiple numpy arrays?\n",
    "\n",
    "Create empty list on which to add values calculated in the loop. Write a \"for\" loop to run the function mean_column and add the items to the new list."
   ]
  },
  {
   "cell_type": "code",
   "execution_count": null,
   "metadata": {},
   "outputs": [],
   "source": []
  }
 ],
 "metadata": {
  "kernelspec": {
   "display_name": "Python 3",
   "language": "python",
   "name": "python3"
  },
  "language_info": {
   "codemirror_mode": {
    "name": "ipython",
    "version": 3
   },
   "file_extension": ".py",
   "mimetype": "text/x-python",
   "name": "python",
   "nbconvert_exporter": "python",
   "pygments_lexer": "ipython3",
   "version": "3.6.5"
  }
 },
 "nbformat": 4,
 "nbformat_minor": 2
}
