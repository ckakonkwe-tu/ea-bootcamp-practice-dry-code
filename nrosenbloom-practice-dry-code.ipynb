{
 "cells": [
  {
   "cell_type": "markdown",
   "metadata": {},
   "source": [
    "# Hands-on Practice Writing DRY Code\n",
    "\n",
    "* ** Author: ** Nan Rosenbloom\n",
    "* ** Date: ** August 21, 2018"
   ]
  },
  {
   "cell_type": "markdown",
   "metadata": {},
   "source": [
    "### Importing software "
   ]
  },
  {
   "cell_type": "code",
   "execution_count": 1,
   "metadata": {},
   "outputs": [
    {
     "name": "stdout",
     "output_type": "stream",
     "text": [
      "all packages imported.\n"
     ]
    }
   ],
   "source": [
    "# Download the software packages I need\n",
    "\n",
    "import os\n",
    "import numpy as np\n",
    "import pandas as pd\n",
    "import urllib.request\n",
    "import matplotlib.pyplot as plt\n",
    "\n",
    "# confirm that packages installed correctly\n",
    "print(\"all packages imported.\")"
   ]
  },
  {
   "cell_type": "markdown",
   "metadata": {},
   "source": [
    "### Set working directory"
   ]
  },
  {
   "cell_type": "code",
   "execution_count": 3,
   "metadata": {},
   "outputs": [
    {
     "data": {
      "text/plain": [
       "'/Users/nanr/work/earth-analytics-bootcamp'"
      ]
     },
     "execution_count": 3,
     "metadata": {},
     "output_type": "execute_result"
    }
   ],
   "source": [
    "# setting working directory\n",
    "os.chdir(\"/Users/nanr/work/earth-analytics-bootcamp/\")\n",
    "\n",
    "# confirm working directory\n",
    "os.getcwd()"
   ]
  },
  {
   "cell_type": "markdown",
   "metadata": {},
   "source": [
    "### Download precip datasets:"
   ]
  },
  {
   "cell_type": "code",
   "execution_count": 6,
   "metadata": {},
   "outputs": [
    {
     "name": "stdout",
     "output_type": "stream",
     "text": [
      "successfully downloaded precip csv files\n"
     ]
    }
   ],
   "source": [
    "# use `urllib` download files from Earth Lab figshare repository\n",
    "\n",
    "# download .csv containing monthly average temperature for Boulder, CO (2004-2009)\n",
    "urllib.request.urlretrieve(url = \"https://ndownloader.figshare.com/files/12807380\", \n",
    "                           filename = \"data/monthly-precip-1988-to-1992.csv\")\n",
    "\n",
    "# download .csv containing monthly average temperature for Boulder, CO (2004-2009)\n",
    "urllib.request.urlretrieve(url = \"https://ndownloader.figshare.com/files/12807383\", \n",
    "                           filename = \"data/monthly-precip-1993-to-1997.csv\")\n",
    "\n",
    "# confirm that all datasets downloaded\n",
    "print(\"successfully downloaded precip csv files\")"
   ]
  },
  {
   "cell_type": "markdown",
   "metadata": {},
   "source": [
    "### Read precip data into numpy arrays"
   ]
  },
  {
   "cell_type": "code",
   "execution_count": 13,
   "metadata": {},
   "outputs": [],
   "source": [
    "# load two csv precip files into numpy arrays\n",
    "precip_1988_to_1992 = np.loadtxt(fname = \"data/monthly-precip-1988-to-1992.csv\",delimiter=\",\")\n",
    "precip_1993_to_1997 = np.loadtxt(fname = \"data/monthly-precip-1993-to-1997.csv\",delimiter=\",\")"
   ]
  },
  {
   "cell_type": "markdown",
   "metadata": {},
   "source": [
    "## Download temperature datasets:"
   ]
  },
  {
   "cell_type": "code",
   "execution_count": 14,
   "metadata": {},
   "outputs": [
    {
     "name": "stdout",
     "output_type": "stream",
     "text": [
      "successfully downloaded temperature csv files\n"
     ]
    }
   ],
   "source": [
    "# use `urllib` download files from Earth Lab figshare repository\n",
    "\n",
    "# download .csv containing monthly average temperature for Boulder, CO (2004-2009)\n",
    "urllib.request.urlretrieve(url = \"https://ndownloader.figshare.com/files/12807389\", \n",
    "                           filename = \"data/temp-1991-to-1995-months.csv\")\n",
    "\n",
    "# download .csv containing monthly average temperature for Boulder, CO (2004-2009)\n",
    "urllib.request.urlretrieve(url = \"https://ndownloader.figshare.com/files/12807386\", \n",
    "                           filename = \"data/temp-1996-to-2000-months.csv\")\n",
    "\n",
    "# confirm that all datasets downloaded\n",
    "print(\"successfully downloaded temperature csv files\")"
   ]
  },
  {
   "cell_type": "markdown",
   "metadata": {},
   "source": [
    "## Read temperature datasets into pandas dataframes:"
   ]
  },
  {
   "cell_type": "code",
   "execution_count": 16,
   "metadata": {},
   "outputs": [],
   "source": [
    "# read temperature datasets into pandas dataframes\n",
    "temp_1991_to_1995 = pd.read_csv(\"data/temp-1991-to-1995-months.csv\")\n",
    "temp_1996_to_2000 = pd.read_csv(\"data/temp-1996-to-2000-months.csv\")"
   ]
  },
  {
   "cell_type": "code",
   "execution_count": 18,
   "metadata": {},
   "outputs": [
    {
     "name": "stdout",
     "output_type": "stream",
     "text": [
      "[[0.4  1.14 2.53 1.48 3.7  0.7  0.71 1.33 2.02 0.03 0.75 2.16]\n",
      " [1.19 1.27 0.97 1.95 2.68 2.93 1.43 1.63 3.54 1.4  0.09 1.54]\n",
      " [1.04 1.32 4.55 2.16 1.73 0.39 4.23 1.13 1.84 0.96 1.6  0.75]\n",
      " [1.05 0.15 0.43 2.41 2.9  3.59 3.11 2.08 1.21 0.93 3.3  0.01]\n",
      " [0.67 0.   5.17 0.46 1.7  0.96 1.13 3.08 0.02 0.79 2.56 0.84]]\n",
      "[[0.25 0.9  2.15 2.56 1.73 3.38 1.4  1.04 3.32 2.42 2.17 0.55]\n",
      " [0.86 1.37 1.61 3.46 1.35 0.93 0.35 2.56 0.54 1.02 2.25 0.49]\n",
      " [0.64 1.53 1.21 5.45 9.59 4.03 0.72 1.45 2.96 0.59 1.51 0.25]\n",
      " [1.89 0.29 2.16 1.49 4.63 2.77 1.96 0.63 3.48 0.28 1.43 0.37]\n",
      " [0.87 1.83 0.91 5.77 2.19 3.69 1.14 5.27 1.92 2.7  1.52 0.68]]\n",
      "   Year  January  February  March  April   May  June  July  August  September  \\\n",
      "0  1991     29.9      40.9   42.8   47.8  58.2  66.6  70.5    69.2       61.7   \n",
      "1  1992     35.9      40.6   43.3   54.3  59.1  62.9  68.3    66.3       64.4   \n",
      "2  1993     28.3      30.6   42.4   47.6  57.5  64.5  69.5    67.3       58.8   \n",
      "3  1994     35.5      31.9   43.9   47.6  60.8  70.0  71.2    70.9       65.0   \n",
      "4  1995     34.5      38.3   42.1   45.1  50.9  62.4  70.5    74.0       60.4   \n",
      "\n",
      "   October  November  December  \n",
      "0     52.1      36.8      35.3  \n",
      "1     54.1      34.1      29.2  \n",
      "2     48.7      35.6      35.4  \n",
      "3     50.6      36.6      36.1  \n",
      "4     50.5      45.0      36.3  \n",
      "   Year  January  February  March  April   May  June  July  August  September  \\\n",
      "0  1996     29.7      37.7   37.9   50.4  58.9  66.9  71.5    69.5       60.8   \n",
      "1  1997     31.3      32.8   45.5   42.8  57.4  66.5  71.4    68.7       64.0   \n",
      "2  1998     36.5      36.4   38.7   46.5  58.8  62.1  72.8    70.7       67.1   \n",
      "3  1999     36.4      42.1   46.0   44.5  55.6  64.8  73.5    69.3       58.5   \n",
      "4  2000     36.4      41.0   42.9   51.2  61.0  67.4  74.7    73.0       63.1   \n",
      "\n",
      "   October  November  December  \n",
      "0     53.1      40.6      36.5  \n",
      "1     52.7      37.9      33.9  \n",
      "2     50.4      44.0      32.2  \n",
      "3     51.9      48.0      36.9  \n",
      "4     49.6      31.4      31.2  \n"
     ]
    }
   ],
   "source": [
    "print(precip_1988_to_1992)\n",
    "print(precip_1993_to_1997)\n",
    "print(temp_1991_to_1995)\n",
    "print(temp_1996_to_2000)"
   ]
  },
  {
   "cell_type": "markdown",
   "metadata": {},
   "source": [
    "### Question 1: Use Indexing to Select from Numpy Array\n",
    "Select the second row of data (including all columns) from the numpy array containing the data for 1988 to 1992, and save to a new numpy array.\n",
    "\n",
    "Name your new array appropriately to indicate the year of data that it represents."
   ]
  },
  {
   "cell_type": "code",
   "execution_count": 36,
   "metadata": {},
   "outputs": [],
   "source": [
    "precip_1989 = np.array(precip_1988_to_1992[1:2,0:12])"
   ]
  },
  {
   "cell_type": "code",
   "execution_count": 37,
   "metadata": {},
   "outputs": [
    {
     "name": "stdout",
     "output_type": "stream",
     "text": [
      "[[1.19 1.27 0.97 1.95 2.68 2.93 1.43 1.63 3.54 1.4  0.09 1.54]]\n"
     ]
    }
   ],
   "source": [
    "print(precip_1989)"
   ]
  },
  {
   "cell_type": "code",
   "execution_count": 38,
   "metadata": {},
   "outputs": [
    {
     "name": "stdout",
     "output_type": "stream",
     "text": [
      "<class 'numpy.ndarray'>\n"
     ]
    }
   ],
   "source": [
    "print(type(precip_1989))"
   ]
  },
  {
   "cell_type": "markdown",
   "metadata": {},
   "source": [
    "### Question 2: Write a Conditional Statement to Check Dimensions of Numpy Array\n",
    "Write a conditional statement that checks whether the numpy array created in the previous question (i.e. the selection) is a one-dimensional numpy array.\n",
    "\n",
    "Print a message stating whether or not the array is one-dimensional.\n",
    "\n"
   ]
  },
  {
   "cell_type": "code",
   "execution_count": 40,
   "metadata": {},
   "outputs": [
    {
     "name": "stdout",
     "output_type": "stream",
     "text": [
      "precip_1989 is NOT a 1D array\n"
     ]
    }
   ],
   "source": [
    "# checking if data array is 1D or not.\n",
    "if precip_1989.ndim == 1:\n",
    "    print(\"precip_1989 is a 1D array\")\n",
    "else:\n",
    "    print(\"precip_1989 is NOT a 1D array\")"
   ]
  },
  {
   "cell_type": "code",
   "execution_count": 41,
   "metadata": {},
   "outputs": [
    {
     "name": "stdout",
     "output_type": "stream",
     "text": [
      "2\n"
     ]
    }
   ],
   "source": [
    "print(precip_1989.ndim)"
   ]
  },
  {
   "cell_type": "code",
   "execution_count": 42,
   "metadata": {},
   "outputs": [
    {
     "data": {
      "text/plain": [
       "(1, 12)"
      ]
     },
     "execution_count": 42,
     "metadata": {},
     "output_type": "execute_result"
    }
   ],
   "source": [
    "precip_1989.shape"
   ]
  },
  {
   "cell_type": "markdown",
   "metadata": {},
   "source": [
    "## Question 3: Expand Conditional Statement to Execute Different Code\n",
    "Modify your conditional statement from the previous question, so that your if and else statements execute different code, not just printing messages.\n",
    "\n",
    "For the if statement, rather than printing a message, print the shape of the numpy array from the previous question (i.e. the selection).\n",
    "\n",
    "For the else statement, rather than printing a message, include the following code lines to be executed (i.e. if the array is not one-dimensional):\n",
    "* arrayname_1d = arrayname.flatten()\n",
    "* print(arrayname_1d.shape)\n",
    "\n"
   ]
  },
  {
   "cell_type": "code",
   "execution_count": 46,
   "metadata": {},
   "outputs": [
    {
     "name": "stdout",
     "output_type": "stream",
     "text": [
      "(12,)\n"
     ]
    }
   ],
   "source": [
    "# checking if data array is 1D or not.\n",
    "if precip_1989.ndim == 1:\n",
    "    precip_1989.shape\n",
    "else:\n",
    "    precip_1989_1d = precip_1989.flatten()\n",
    "    print(precip_1989_1d.shape)"
   ]
  },
  {
   "cell_type": "markdown",
   "metadata": {},
   "source": [
    "## Question 4: Write a Conditional Statement to Check Dimensions of Two Numpy Arrays\n",
    "Manually create a one-dimensional numpy array that contains the month names (i.e. January to December).\n",
    "\n",
    "Write a conditional statement to check that this new array for month names has the same shape as the numpy array from the previous question (i.e. the selection).\n",
    "\n",
    "Print a message stating whether are not these arrays have the same shape and can be plotted together."
   ]
  },
  {
   "cell_type": "code",
   "execution_count": 53,
   "metadata": {},
   "outputs": [],
   "source": [
    "# Creating 1D numpy array with names of months:\n",
    "months = np.array([\"January\",\"February\",\"March\",\"April\",\"May\",\"June\",\"July\",\"August\",\"September\",\"October\",\"November\",\"December\"])"
   ]
  },
  {
   "cell_type": "markdown",
   "metadata": {},
   "source": [
    "### Write a conditional statement to compare the two numpy arrays."
   ]
  },
  {
   "cell_type": "code",
   "execution_count": 58,
   "metadata": {},
   "outputs": [
    {
     "name": "stdout",
     "output_type": "stream",
     "text": [
      "months array and and precip_1989_1d array have the same shape and can be plotted together.\n"
     ]
    }
   ],
   "source": [
    "if months.shape == precip_1989_1d.shape:\n",
    "    print(\"months array and and precip_1989_1d array have the same shape and can be plotted together.\")\n",
    "else:\n",
    "    print(\"months array and precip_1989_1d array do NOT have the same shape\")"
   ]
  },
  {
   "cell_type": "markdown",
   "metadata": {},
   "source": [
    "## Question 5: Practice Pseudo Coding\n",
    "Reflect on your conditional statement from the previous question.\n",
    "\n",
    "Write a sentence or two on how you could expand on your conditional statement from the previous question to create a plot from the two numpy arrays if they do indeed have the same shape.\n",
    "\n",
    "Hint: what did you do in Question 3 to expand on your conditional statement?"
   ]
  },
  {
   "cell_type": "markdown",
   "metadata": {},
   "source": [
    "#### Expand on conditional statement:\n",
    "To expand on my earlier work I could write a conditional statement that compares the shape of the two arrays, and if they ARE the same shape, I could add a function to plot them (or I could just add the code to plot them) to the body of the conditional statement."
   ]
  },
  {
   "cell_type": "markdown",
   "metadata": {},
   "source": [
    "## Question 6: Loop on Pandas Dataframes\n",
    "Write a loop to run the info() method on the two pandas dataframes that you imported in this activity, and print the results."
   ]
  },
  {
   "cell_type": "code",
   "execution_count": 66,
   "metadata": {},
   "outputs": [
    {
     "name": "stdout",
     "output_type": "stream",
     "text": [
      "<class 'pandas.core.frame.DataFrame'>\n",
      "RangeIndex: 5 entries, 0 to 4\n",
      "Data columns (total 13 columns):\n",
      "Year         5 non-null int64\n",
      "January      5 non-null float64\n",
      "February     5 non-null float64\n",
      "March        5 non-null float64\n",
      "April        5 non-null float64\n",
      "May          5 non-null float64\n",
      "June         5 non-null float64\n",
      "July         5 non-null float64\n",
      "August       5 non-null float64\n",
      "September    5 non-null float64\n",
      "October      5 non-null float64\n",
      "November     5 non-null float64\n",
      "December     5 non-null float64\n",
      "dtypes: float64(12), int64(1)\n",
      "memory usage: 600.0 bytes\n",
      "None\n",
      "\n",
      "<class 'pandas.core.frame.DataFrame'>\n",
      "RangeIndex: 5 entries, 0 to 4\n",
      "Data columns (total 13 columns):\n",
      "Year         5 non-null int64\n",
      "January      5 non-null float64\n",
      "February     5 non-null float64\n",
      "March        5 non-null float64\n",
      "April        5 non-null float64\n",
      "May          5 non-null float64\n",
      "June         5 non-null float64\n",
      "July         5 non-null float64\n",
      "August       5 non-null float64\n",
      "September    5 non-null float64\n",
      "October      5 non-null float64\n",
      "November     5 non-null float64\n",
      "December     5 non-null float64\n",
      "dtypes: float64(12), int64(1)\n",
      "memory usage: 600.0 bytes\n",
      "None\n",
      "\n"
     ]
    }
   ],
   "source": [
    "# I loop over the two temperature datasets, and running the info() method on each of them.\n",
    "\n",
    "temp_files = (temp_1996_to_2000,temp_1991_to_1995)\n",
    "for f in temp_files:\n",
    "    print(f.info())\n",
    "    print(\"\")\n"
   ]
  },
  {
   "cell_type": "markdown",
   "metadata": {},
   "source": [
    "## Question 7: Loop on Columns in Pandas Dataframes\n",
    "Write a loop to run the .describe() method on each column in the pandas dataframe containing the data for 1996 to 2000)."
   ]
  },
  {
   "cell_type": "code",
   "execution_count": 89,
   "metadata": {},
   "outputs": [
    {
     "name": "stdout",
     "output_type": "stream",
     "text": [
      "         January\n",
      "count   5.000000\n",
      "mean   34.060000\n",
      "std     3.298939\n",
      "min    29.700000\n",
      "25%    31.300000\n",
      "50%    36.400000\n",
      "75%    36.400000\n",
      "max    36.500000\n",
      "\n",
      "        February\n",
      "count   5.000000\n",
      "mean   38.000000\n",
      "std     3.724916\n",
      "min    32.800000\n",
      "25%    36.400000\n",
      "50%    37.700000\n",
      "75%    41.000000\n",
      "max    42.100000\n",
      "\n",
      "           March\n",
      "count   5.000000\n",
      "mean   42.200000\n",
      "std     3.760319\n",
      "min    37.900000\n",
      "25%    38.700000\n",
      "50%    42.900000\n",
      "75%    45.500000\n",
      "max    46.000000\n",
      "\n",
      "           April\n",
      "count   5.000000\n",
      "mean   47.080000\n",
      "std     3.650616\n",
      "min    42.800000\n",
      "25%    44.500000\n",
      "50%    46.500000\n",
      "75%    50.400000\n",
      "max    51.200000\n",
      "\n",
      "           May\n",
      "count   5.0000\n",
      "mean   58.3400\n",
      "std     1.9995\n",
      "min    55.6000\n",
      "25%    57.4000\n",
      "50%    58.8000\n",
      "75%    58.9000\n",
      "max    61.0000\n",
      "\n",
      "            June\n",
      "count   5.000000\n",
      "mean   65.540000\n",
      "std     2.157081\n",
      "min    62.100000\n",
      "25%    64.800000\n",
      "50%    66.500000\n",
      "75%    66.900000\n",
      "max    67.400000\n",
      "\n",
      "            July\n",
      "count   5.000000\n",
      "mean   72.780000\n",
      "std     1.391761\n",
      "min    71.400000\n",
      "25%    71.500000\n",
      "50%    72.800000\n",
      "75%    73.500000\n",
      "max    74.700000\n",
      "\n",
      "          August\n",
      "count   5.000000\n",
      "mean   70.240000\n",
      "std     1.705286\n",
      "min    68.700000\n",
      "25%    69.300000\n",
      "50%    69.500000\n",
      "75%    70.700000\n",
      "max    73.000000\n",
      "\n",
      "       September\n",
      "count   5.000000\n",
      "mean   62.700000\n",
      "std     3.258067\n",
      "min    58.500000\n",
      "25%    60.800000\n",
      "50%    63.100000\n",
      "75%    64.000000\n",
      "max    67.100000\n",
      "\n",
      "         October\n",
      "count   5.000000\n",
      "mean   51.540000\n",
      "std     1.497665\n",
      "min    49.600000\n",
      "25%    50.400000\n",
      "50%    51.900000\n",
      "75%    52.700000\n",
      "max    53.100000\n",
      "\n",
      "        November\n",
      "count   5.000000\n",
      "mean   40.380000\n",
      "std     6.285062\n",
      "min    31.400000\n",
      "25%    37.900000\n",
      "50%    40.600000\n",
      "75%    44.000000\n",
      "max    48.000000\n",
      "\n",
      "       December\n",
      "count   5.00000\n",
      "mean   34.14000\n",
      "std     2.53239\n",
      "min    31.20000\n",
      "25%    32.20000\n",
      "50%    33.90000\n",
      "75%    36.50000\n",
      "max    36.90000\n",
      "\n"
     ]
    }
   ],
   "source": [
    "# I loop over the column headers (names of the months) in order to describe each column of data in the pandas array.\n",
    "\n",
    "# First I create a list of month names:\n",
    "month_list = (\"January\",\"February\",\"March\",\"April\",\"May\",\"June\",\"July\",\"August\",\"September\",\"October\",\"November\",\"December\")\n",
    "\n",
    "# then I loop over the list to isolate the columns.\n",
    "for m in month_list:\n",
    "    print(temp_1996_to_2000[[m]].describe())\n",
    "    print(\"\")\n",
    "        "
   ]
  },
  {
   "cell_type": "markdown",
   "metadata": {},
   "source": [
    "## Question 8: Write Function to Summarize Numpy Array Using Axes\n",
    "Write a function that calculates the mean across columns of a numpy array."
   ]
  },
  {
   "cell_type": "code",
   "execution_count": 90,
   "metadata": {},
   "outputs": [],
   "source": [
    "# First define function to calculate the column-wise mean of a two-dimensional numpy array\n",
    "\n",
    "def mean_stats_cols(array):\n",
    "    \n",
    "    # calculate mean of two-dimensional numpy array for each column\n",
    "    # function can take a numpy array as input\n",
    "    # function can not take list or pandas dataframe as input\n",
    "    \n",
    "    stat_mean_row = np.mean(array, axis = 0)\n",
    "    return(stat_mean_row)"
   ]
  },
  {
   "cell_type": "markdown",
   "metadata": {},
   "source": [
    "## Question 9: Execute Function and Save Output to New Numpy Array\n",
    "Run the function created in the previous question (i.e. to calculate median of columns in a numpy array) on the numpy array containing data for 1993 to 1997. Save the output to a new numpy array."
   ]
  },
  {
   "cell_type": "code",
   "execution_count": 115,
   "metadata": {},
   "outputs": [],
   "source": [
    "# Create a new numpy array containing the monthly mean precip for years 1993-1997.\n",
    "mean_monthly_precip_1993_1997_climo = np.array(mean_stats_cols(precip_1993_to_1997))"
   ]
  },
  {
   "cell_type": "markdown",
   "metadata": {},
   "source": [
    "## Question 10: Practice Pseudo Coding\n",
    "You have already learned how to save the output from one run of a function (see Question 9). What if you wanted to run the function on multiple numpy arrays?\n",
    "\n",
    "Write a sentence or two on what you would need to know how to do, in order to save the output from a function that is running on multiple arrays in a loop."
   ]
  },
  {
   "cell_type": "markdown",
   "metadata": {},
   "source": [
    "### Pseudo coding:\n",
    "#### Option 1\n",
    "If I wanted to save the data from calculations on multiple arrays, I would first need to know (1) how many arrays I wanted to loop over, (2) I would need to check that all the arrays were the same dimension (i.e., in this case, that they all had the same number of columns), (3) then I would create a 2D numpy array to hold the output:  the number or rows (axis=0) would equal the number of arrays, the number of columns (axis=1) would hold the number of columns in each input array, (4) I would create a list to hold the array names, then (5) I would loop over the list, incrementing the output array.\n",
    "\n",
    "#### OR .... Option 2\n",
    "I could append each value piecewise to the list of answers.  In which case I could loop through the output of the array function, and add the answers to a new list.  Not sure that it would be easy to keep track of what I was adding unless I could add each returned array to a new line of a numpy array.\n",
    "\n",
    "Not sure I understand this question very well."
   ]
  },
  {
   "cell_type": "code",
   "execution_count": 120,
   "metadata": {},
   "outputs": [
    {
     "name": "stdout",
     "output_type": "stream",
     "text": [
      "[1, 2, 3, 4, 5]\n"
     ]
    }
   ],
   "source": [
    "a = ([1,2,3])\n",
    "b = ([4,5,6])\n",
    "c = ([7,8,9])\n",
    "a.append(b[0])\n",
    "a.append(b[1])\n",
    "#a.append(c)\n",
    "print(a)\n"
   ]
  },
  {
   "cell_type": "code",
   "execution_count": null,
   "metadata": {},
   "outputs": [],
   "source": []
  }
 ],
 "metadata": {
  "kernelspec": {
   "display_name": "Python 3",
   "language": "python",
   "name": "python3"
  },
  "language_info": {
   "codemirror_mode": {
    "name": "ipython",
    "version": 3
   },
   "file_extension": ".py",
   "mimetype": "text/x-python",
   "name": "python",
   "nbconvert_exporter": "python",
   "pygments_lexer": "ipython3",
   "version": "3.6.5"
  }
 },
 "nbformat": 4,
 "nbformat_minor": 2
}
