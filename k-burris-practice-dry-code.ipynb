{
 "cells": [
  {
   "cell_type": "markdown",
   "metadata": {},
   "source": [
    "# Earth Analytics Bootcamp - Practice Dry Coding\n",
    "\n",
    "* **Author:** Kyle Burris\n",
    "* **Date:**   8/23/18"
   ]
  },
  {
   "cell_type": "markdown",
   "metadata": {},
   "source": [
    "First, I need to import packages for working with the operating system, numpy arrays and pandas dataframes, as well as a library that allows importation of data for those data structures from text and csv files, and the standard Python plotting package."
   ]
  },
  {
   "cell_type": "code",
   "execution_count": 3,
   "metadata": {},
   "outputs": [
    {
     "name": "stdout",
     "output_type": "stream",
     "text": [
      "import of packages successful\n"
     ]
    }
   ],
   "source": [
    "# Import necessary Python packages\n",
    "import os\n",
    "import numpy as np\n",
    "import pandas as pd\n",
    "import urllib.request\n",
    "import matplotlib.pyplot as plt\n",
    "import glob as gl\n",
    "\n",
    "# Print message after packages imported successfully\n",
    "print(\"import of packages successful\")"
   ]
  },
  {
   "cell_type": "markdown",
   "metadata": {},
   "source": [
    "I need to set the working directory here."
   ]
  },
  {
   "cell_type": "code",
   "execution_count": 35,
   "metadata": {},
   "outputs": [],
   "source": [
    "# Set the working directory to the `earth-analytics-bootcamp` directory\n",
    "os.chdir(\"C:/Users/Kyle/earth-analytics-bootcamp/\")"
   ]
  },
  {
   "cell_type": "markdown",
   "metadata": {},
   "source": [
    "Here I download data for numpy arrays and pandas dataframes in the form of csv files."
   ]
  },
  {
   "cell_type": "code",
   "execution_count": 5,
   "metadata": {},
   "outputs": [
    {
     "name": "stdout",
     "output_type": "stream",
     "text": [
      "datasets downloaded successfully\n"
     ]
    }
   ],
   "source": [
    "# Numpy array data\n",
    "# Download .csv files containing monthly average precipitation for Boulder, CO ? from 1988-1992 and 1993-1997 respectively\n",
    "urllib.request.urlretrieve(url = \"https://ndownloader.figshare.com/files/12807380\", \n",
    "                           filename = \"data/monthly-precip-1988-to-1992.csv\")\n",
    "\n",
    "urllib.request.urlretrieve(url = \"https://ndownloader.figshare.com/files/12807383\", \n",
    "                           filename = \"data/monthly-precip-1993-to-1997.csv\")\n",
    "\n",
    "# Print message that data downloads were successful\n",
    "print(\"datasets downloaded successfully\")"
   ]
  },
  {
   "cell_type": "code",
   "execution_count": 6,
   "metadata": {},
   "outputs": [
    {
     "name": "stdout",
     "output_type": "stream",
     "text": [
      "datasets downloaded successfully\n"
     ]
    }
   ],
   "source": [
    "# Pandas dataframe data\n",
    "# Download .csv files containing monthly average temperatures for Boulder, CO ? from 1991-1995 and 1996-2000 respectively\n",
    "urllib.request.urlretrieve(url = \"https://ndownloader.figshare.com/files/12807389\", \n",
    "                           filename = \"data/temp-1991-to-1995-months.csv\")\n",
    "\n",
    "urllib.request.urlretrieve(url = \"https://ndownloader.figshare.com/files/12807386\", \n",
    "                           filename = \"data/temp-1996-to-2000-months.csv\")\n",
    "\n",
    "# Print message that data downloads were successful\n",
    "print(\"datasets downloaded successfully\")"
   ]
  },
  {
   "cell_type": "markdown",
   "metadata": {},
   "source": [
    "Next I import csv files into two numpy arrays and two pandas dataframes."
   ]
  },
  {
   "cell_type": "code",
   "execution_count": 7,
   "metadata": {},
   "outputs": [],
   "source": [
    "# Import the monthly average values from `monthly-precip-1988-to-1992.csv` as a numpy array\n",
    "monthly_precip_1988_to_1992 = np.loadtxt(fname= \"C:/Users/Kyle/earth-analytics-bootcamp/data/monthly-precip-1988-to-1992.csv\", delimiter = \",\")\n",
    "\n",
    "# Import the monthly average values from `bmonthly-precip-1993-to-1997.csv` as a numpy array\n",
    "monthly_precip_1993_to_1997 = np.loadtxt(fname= \"C:/Users/Kyle/earth-analytics-bootcamp/data/monthly-precip-1993-to-1997.csv\", delimiter = \",\")\n",
    "\n",
    "# Import the monthly average temperature values from 'temp-1991-to-1995-months.csv' as a pandas dataframe\n",
    "temp_1991_to_1995_months = pd.read_csv(\"C:/Users/Kyle/earth-analytics-bootcamp/data/temp-1991-to-1995-months.csv\")\n",
    "\n",
    "# Import the monthly average temperature values from 'temp-1996-to-2000-months.csv' as a pandas dataframe\n",
    "temp_1996_to_2000_months = pd.read_csv(\"C:/Users/Kyle/earth-analytics-bootcamp/data/temp-1996-to-2000-months.csv\")"
   ]
  },
  {
   "cell_type": "markdown",
   "metadata": {},
   "source": [
    "Below I print the new numpy arrays and pandas dataframes."
   ]
  },
  {
   "cell_type": "code",
   "execution_count": 8,
   "metadata": {},
   "outputs": [
    {
     "name": "stdout",
     "output_type": "stream",
     "text": [
      "[[0.4  1.14 2.53 1.48 3.7  0.7  0.71 1.33 2.02 0.03 0.75 2.16]\n",
      " [1.19 1.27 0.97 1.95 2.68 2.93 1.43 1.63 3.54 1.4  0.09 1.54]\n",
      " [1.04 1.32 4.55 2.16 1.73 0.39 4.23 1.13 1.84 0.96 1.6  0.75]\n",
      " [1.05 0.15 0.43 2.41 2.9  3.59 3.11 2.08 1.21 0.93 3.3  0.01]\n",
      " [0.67 0.   5.17 0.46 1.7  0.96 1.13 3.08 0.02 0.79 2.56 0.84]]\n",
      "\n",
      "[[0.25 0.9  2.15 2.56 1.73 3.38 1.4  1.04 3.32 2.42 2.17 0.55]\n",
      " [0.86 1.37 1.61 3.46 1.35 0.93 0.35 2.56 0.54 1.02 2.25 0.49]\n",
      " [0.64 1.53 1.21 5.45 9.59 4.03 0.72 1.45 2.96 0.59 1.51 0.25]\n",
      " [1.89 0.29 2.16 1.49 4.63 2.77 1.96 0.63 3.48 0.28 1.43 0.37]\n",
      " [0.87 1.83 0.91 5.77 2.19 3.69 1.14 5.27 1.92 2.7  1.52 0.68]]\n"
     ]
    }
   ],
   "source": [
    "print (monthly_precip_1988_to_1992)\n",
    "print (\"\")\n",
    "print (monthly_precip_1993_to_1997)"
   ]
  },
  {
   "cell_type": "code",
   "execution_count": 9,
   "metadata": {},
   "outputs": [
    {
     "data": {
      "text/html": [
       "<div>\n",
       "<style scoped>\n",
       "    .dataframe tbody tr th:only-of-type {\n",
       "        vertical-align: middle;\n",
       "    }\n",
       "\n",
       "    .dataframe tbody tr th {\n",
       "        vertical-align: top;\n",
       "    }\n",
       "\n",
       "    .dataframe thead th {\n",
       "        text-align: right;\n",
       "    }\n",
       "</style>\n",
       "<table border=\"1\" class=\"dataframe\">\n",
       "  <thead>\n",
       "    <tr style=\"text-align: right;\">\n",
       "      <th></th>\n",
       "      <th>Year</th>\n",
       "      <th>January</th>\n",
       "      <th>February</th>\n",
       "      <th>March</th>\n",
       "      <th>April</th>\n",
       "      <th>May</th>\n",
       "      <th>June</th>\n",
       "      <th>July</th>\n",
       "      <th>August</th>\n",
       "      <th>September</th>\n",
       "      <th>October</th>\n",
       "      <th>November</th>\n",
       "      <th>December</th>\n",
       "    </tr>\n",
       "  </thead>\n",
       "  <tbody>\n",
       "    <tr>\n",
       "      <th>0</th>\n",
       "      <td>1991</td>\n",
       "      <td>29.9</td>\n",
       "      <td>40.9</td>\n",
       "      <td>42.8</td>\n",
       "      <td>47.8</td>\n",
       "      <td>58.2</td>\n",
       "      <td>66.6</td>\n",
       "      <td>70.5</td>\n",
       "      <td>69.2</td>\n",
       "      <td>61.7</td>\n",
       "      <td>52.1</td>\n",
       "      <td>36.8</td>\n",
       "      <td>35.3</td>\n",
       "    </tr>\n",
       "    <tr>\n",
       "      <th>1</th>\n",
       "      <td>1992</td>\n",
       "      <td>35.9</td>\n",
       "      <td>40.6</td>\n",
       "      <td>43.3</td>\n",
       "      <td>54.3</td>\n",
       "      <td>59.1</td>\n",
       "      <td>62.9</td>\n",
       "      <td>68.3</td>\n",
       "      <td>66.3</td>\n",
       "      <td>64.4</td>\n",
       "      <td>54.1</td>\n",
       "      <td>34.1</td>\n",
       "      <td>29.2</td>\n",
       "    </tr>\n",
       "    <tr>\n",
       "      <th>2</th>\n",
       "      <td>1993</td>\n",
       "      <td>28.3</td>\n",
       "      <td>30.6</td>\n",
       "      <td>42.4</td>\n",
       "      <td>47.6</td>\n",
       "      <td>57.5</td>\n",
       "      <td>64.5</td>\n",
       "      <td>69.5</td>\n",
       "      <td>67.3</td>\n",
       "      <td>58.8</td>\n",
       "      <td>48.7</td>\n",
       "      <td>35.6</td>\n",
       "      <td>35.4</td>\n",
       "    </tr>\n",
       "    <tr>\n",
       "      <th>3</th>\n",
       "      <td>1994</td>\n",
       "      <td>35.5</td>\n",
       "      <td>31.9</td>\n",
       "      <td>43.9</td>\n",
       "      <td>47.6</td>\n",
       "      <td>60.8</td>\n",
       "      <td>70.0</td>\n",
       "      <td>71.2</td>\n",
       "      <td>70.9</td>\n",
       "      <td>65.0</td>\n",
       "      <td>50.6</td>\n",
       "      <td>36.6</td>\n",
       "      <td>36.1</td>\n",
       "    </tr>\n",
       "    <tr>\n",
       "      <th>4</th>\n",
       "      <td>1995</td>\n",
       "      <td>34.5</td>\n",
       "      <td>38.3</td>\n",
       "      <td>42.1</td>\n",
       "      <td>45.1</td>\n",
       "      <td>50.9</td>\n",
       "      <td>62.4</td>\n",
       "      <td>70.5</td>\n",
       "      <td>74.0</td>\n",
       "      <td>60.4</td>\n",
       "      <td>50.5</td>\n",
       "      <td>45.0</td>\n",
       "      <td>36.3</td>\n",
       "    </tr>\n",
       "  </tbody>\n",
       "</table>\n",
       "</div>"
      ],
      "text/plain": [
       "   Year  January  February  March  April   May  June  July  August  September  \\\n",
       "0  1991     29.9      40.9   42.8   47.8  58.2  66.6  70.5    69.2       61.7   \n",
       "1  1992     35.9      40.6   43.3   54.3  59.1  62.9  68.3    66.3       64.4   \n",
       "2  1993     28.3      30.6   42.4   47.6  57.5  64.5  69.5    67.3       58.8   \n",
       "3  1994     35.5      31.9   43.9   47.6  60.8  70.0  71.2    70.9       65.0   \n",
       "4  1995     34.5      38.3   42.1   45.1  50.9  62.4  70.5    74.0       60.4   \n",
       "\n",
       "   October  November  December  \n",
       "0     52.1      36.8      35.3  \n",
       "1     54.1      34.1      29.2  \n",
       "2     48.7      35.6      35.4  \n",
       "3     50.6      36.6      36.1  \n",
       "4     50.5      45.0      36.3  "
      ]
     },
     "execution_count": 9,
     "metadata": {},
     "output_type": "execute_result"
    }
   ],
   "source": [
    "# Display the dataframe in its full form\n",
    "temp_1991_to_1995_months"
   ]
  },
  {
   "cell_type": "code",
   "execution_count": 10,
   "metadata": {},
   "outputs": [
    {
     "data": {
      "text/html": [
       "<div>\n",
       "<style scoped>\n",
       "    .dataframe tbody tr th:only-of-type {\n",
       "        vertical-align: middle;\n",
       "    }\n",
       "\n",
       "    .dataframe tbody tr th {\n",
       "        vertical-align: top;\n",
       "    }\n",
       "\n",
       "    .dataframe thead th {\n",
       "        text-align: right;\n",
       "    }\n",
       "</style>\n",
       "<table border=\"1\" class=\"dataframe\">\n",
       "  <thead>\n",
       "    <tr style=\"text-align: right;\">\n",
       "      <th></th>\n",
       "      <th>Year</th>\n",
       "      <th>January</th>\n",
       "      <th>February</th>\n",
       "      <th>March</th>\n",
       "      <th>April</th>\n",
       "      <th>May</th>\n",
       "      <th>June</th>\n",
       "      <th>July</th>\n",
       "      <th>August</th>\n",
       "      <th>September</th>\n",
       "      <th>October</th>\n",
       "      <th>November</th>\n",
       "      <th>December</th>\n",
       "    </tr>\n",
       "  </thead>\n",
       "  <tbody>\n",
       "    <tr>\n",
       "      <th>0</th>\n",
       "      <td>1996</td>\n",
       "      <td>29.7</td>\n",
       "      <td>37.7</td>\n",
       "      <td>37.9</td>\n",
       "      <td>50.4</td>\n",
       "      <td>58.9</td>\n",
       "      <td>66.9</td>\n",
       "      <td>71.5</td>\n",
       "      <td>69.5</td>\n",
       "      <td>60.8</td>\n",
       "      <td>53.1</td>\n",
       "      <td>40.6</td>\n",
       "      <td>36.5</td>\n",
       "    </tr>\n",
       "    <tr>\n",
       "      <th>1</th>\n",
       "      <td>1997</td>\n",
       "      <td>31.3</td>\n",
       "      <td>32.8</td>\n",
       "      <td>45.5</td>\n",
       "      <td>42.8</td>\n",
       "      <td>57.4</td>\n",
       "      <td>66.5</td>\n",
       "      <td>71.4</td>\n",
       "      <td>68.7</td>\n",
       "      <td>64.0</td>\n",
       "      <td>52.7</td>\n",
       "      <td>37.9</td>\n",
       "      <td>33.9</td>\n",
       "    </tr>\n",
       "    <tr>\n",
       "      <th>2</th>\n",
       "      <td>1998</td>\n",
       "      <td>36.5</td>\n",
       "      <td>36.4</td>\n",
       "      <td>38.7</td>\n",
       "      <td>46.5</td>\n",
       "      <td>58.8</td>\n",
       "      <td>62.1</td>\n",
       "      <td>72.8</td>\n",
       "      <td>70.7</td>\n",
       "      <td>67.1</td>\n",
       "      <td>50.4</td>\n",
       "      <td>44.0</td>\n",
       "      <td>32.2</td>\n",
       "    </tr>\n",
       "    <tr>\n",
       "      <th>3</th>\n",
       "      <td>1999</td>\n",
       "      <td>36.4</td>\n",
       "      <td>42.1</td>\n",
       "      <td>46.0</td>\n",
       "      <td>44.5</td>\n",
       "      <td>55.6</td>\n",
       "      <td>64.8</td>\n",
       "      <td>73.5</td>\n",
       "      <td>69.3</td>\n",
       "      <td>58.5</td>\n",
       "      <td>51.9</td>\n",
       "      <td>48.0</td>\n",
       "      <td>36.9</td>\n",
       "    </tr>\n",
       "    <tr>\n",
       "      <th>4</th>\n",
       "      <td>2000</td>\n",
       "      <td>36.4</td>\n",
       "      <td>41.0</td>\n",
       "      <td>42.9</td>\n",
       "      <td>51.2</td>\n",
       "      <td>61.0</td>\n",
       "      <td>67.4</td>\n",
       "      <td>74.7</td>\n",
       "      <td>73.0</td>\n",
       "      <td>63.1</td>\n",
       "      <td>49.6</td>\n",
       "      <td>31.4</td>\n",
       "      <td>31.2</td>\n",
       "    </tr>\n",
       "  </tbody>\n",
       "</table>\n",
       "</div>"
      ],
      "text/plain": [
       "   Year  January  February  March  April   May  June  July  August  September  \\\n",
       "0  1996     29.7      37.7   37.9   50.4  58.9  66.9  71.5    69.5       60.8   \n",
       "1  1997     31.3      32.8   45.5   42.8  57.4  66.5  71.4    68.7       64.0   \n",
       "2  1998     36.5      36.4   38.7   46.5  58.8  62.1  72.8    70.7       67.1   \n",
       "3  1999     36.4      42.1   46.0   44.5  55.6  64.8  73.5    69.3       58.5   \n",
       "4  2000     36.4      41.0   42.9   51.2  61.0  67.4  74.7    73.0       63.1   \n",
       "\n",
       "   October  November  December  \n",
       "0     53.1      40.6      36.5  \n",
       "1     52.7      37.9      33.9  \n",
       "2     50.4      44.0      32.2  \n",
       "3     51.9      48.0      36.9  \n",
       "4     49.6      31.4      31.2  "
      ]
     },
     "execution_count": 10,
     "metadata": {},
     "output_type": "execute_result"
    }
   ],
   "source": [
    "# Display the dataframe in its full form\n",
    "temp_1996_to_2000_months"
   ]
  },
  {
   "cell_type": "markdown",
   "metadata": {},
   "source": [
    "Question 1. I begin the questions with selecting the second row of data from the numpy array containing the data for 1988 to 1992, and save it to a new numpy array."
   ]
  },
  {
   "cell_type": "code",
   "execution_count": 12,
   "metadata": {},
   "outputs": [
    {
     "data": {
      "text/plain": [
       "array([[1.19, 1.27, 0.97, 1.95, 2.68, 2.93, 1.43, 1.63, 3.54, 1.4 , 0.09,\n",
       "        1.54]])"
      ]
     },
     "execution_count": 12,
     "metadata": {},
     "output_type": "execute_result"
    }
   ],
   "source": [
    "# Make a new numpy array from a selection containing the second row\n",
    "precip_1989 = monthly_precip_1988_to_1992[1:2, 0:12]\n",
    "\n",
    "# Display new array\n",
    "precip_1989"
   ]
  },
  {
   "cell_type": "markdown",
   "metadata": {},
   "source": [
    "Question 2. Next I write a conditional statement that checks whether the numpy array created in the previous question (i.e. the selection) is a one-dimensional numpy array."
   ]
  },
  {
   "cell_type": "code",
   "execution_count": 13,
   "metadata": {},
   "outputs": [
    {
     "name": "stdout",
     "output_type": "stream",
     "text": [
      "Your new array is not one-dimensional\n"
     ]
    }
   ],
   "source": [
    "# Make a conditional statement checking the dimensionality to see if it's one or not\n",
    "if precip_1989.ndim == 1:\n",
    "    print(\"Your new array is one-dimensional\")\n",
    "    \n",
    "else:\n",
    "    print(\"Your new array is not one-dimensional\")"
   ]
  },
  {
   "cell_type": "markdown",
   "metadata": {},
   "source": [
    "Question 3. Then I modify the conditional statement from the previous question, so that my if and else statements execute different code, rather than just printing messages."
   ]
  },
  {
   "cell_type": "code",
   "execution_count": 24,
   "metadata": {},
   "outputs": [
    {
     "name": "stdout",
     "output_type": "stream",
     "text": [
      "(12,)\n"
     ]
    }
   ],
   "source": [
    "# Make a conditional statement checking the dimensionality to see if it's one or not, and if not, flatten it to 1D & print\n",
    "if precip_1989.ndim == 1:\n",
    "    print(precip_1989.shape)\n",
    "    \n",
    "else:\n",
    "    precip_1989_1d = precip_1989.flatten()\n",
    "    print(precip_1989_1d.shape)"
   ]
  },
  {
   "cell_type": "markdown",
   "metadata": {},
   "source": [
    "Question 4. Up next, I manually create a one-dimensional numpy array that contains the month names (i.e. January to December)."
   ]
  },
  {
   "cell_type": "code",
   "execution_count": 15,
   "metadata": {},
   "outputs": [
    {
     "name": "stdout",
     "output_type": "stream",
     "text": [
      "['January' 'February' 'March' 'April' 'May' 'June' 'July' 'August'\n",
      " 'September' 'October' 'November' 'December']\n"
     ]
    }
   ],
   "source": [
    "# Make a new numpy array containing the months of the year \n",
    "months = np.array(['January', 'February', 'March', 'April', 'May', 'June', 'July', 'August',\n",
    " 'September', 'October', 'November', 'December'])\n",
    "\n",
    "# Print the output of your new array\n",
    "print(months)"
   ]
  },
  {
   "cell_type": "markdown",
   "metadata": {},
   "source": [
    "Then I write a conditional statement to check that this new array for month names has the same shape as the numpy array from the previous question (i.e. the selection), printing a message stating whether are not these arrays have the same shape and can be plotted together."
   ]
  },
  {
   "cell_type": "code",
   "execution_count": 16,
   "metadata": {},
   "outputs": [
    {
     "name": "stdout",
     "output_type": "stream",
     "text": [
      "These two elements can be plotted together.\n"
     ]
    }
   ],
   "source": [
    "# Make a conditional to check if the flattened precipitation array can be plotted against months of the year\n",
    "if months.shape == precip_1989_1d.shape:\n",
    "    print(\"These two elements can be plotted together.\")\n",
    "\n",
    "else:\n",
    "    print(\"These two elements can NOT be plotted together.\")"
   ]
  },
  {
   "cell_type": "markdown",
   "metadata": {},
   "source": [
    "Question 5. \n",
    "\n",
    "If I wanted to expand the previous conditional statement to execute actual code, and create a plot from the two arrays if they had the same shape, I would exchange the first printing statement with code to make a plot.  This would include code in sequence to set the plot size for the plot, create the space upon which to plot, add the x and y axes to the plot utilizing each numpy array as one of the axes, also setting color, then rotate the x-axis markers so that months are more legible, then creat the plot title and labels for the axes.  The else statement would just print that it could not be plotted."
   ]
  },
  {
   "cell_type": "markdown",
   "metadata": {},
   "source": [
    "Question 6. Next up, I write a loop to run the info() method on the two pandas dataframes that I imported earlier, and print the results."
   ]
  },
  {
   "cell_type": "code",
   "execution_count": 29,
   "metadata": {},
   "outputs": [
    {
     "name": "stdout",
     "output_type": "stream",
     "text": [
      "<class 'pandas.core.frame.DataFrame'>\n",
      "RangeIndex: 5 entries, 0 to 4\n",
      "Data columns (total 13 columns):\n",
      "Year         5 non-null int64\n",
      "January      5 non-null float64\n",
      "February     5 non-null float64\n",
      "March        5 non-null float64\n",
      "April        5 non-null float64\n",
      "May          5 non-null float64\n",
      "June         5 non-null float64\n",
      "July         5 non-null float64\n",
      "August       5 non-null float64\n",
      "September    5 non-null float64\n",
      "October      5 non-null float64\n",
      "November     5 non-null float64\n",
      "December     5 non-null float64\n",
      "dtypes: float64(12), int64(1)\n",
      "memory usage: 600.0 bytes\n",
      "None\n",
      "\n",
      "<class 'pandas.core.frame.DataFrame'>\n",
      "RangeIndex: 5 entries, 0 to 4\n",
      "Data columns (total 13 columns):\n",
      "Year         5 non-null int64\n",
      "January      5 non-null float64\n",
      "February     5 non-null float64\n",
      "March        5 non-null float64\n",
      "April        5 non-null float64\n",
      "May          5 non-null float64\n",
      "June         5 non-null float64\n",
      "July         5 non-null float64\n",
      "August       5 non-null float64\n",
      "September    5 non-null float64\n",
      "October      5 non-null float64\n",
      "November     5 non-null float64\n",
      "December     5 non-null float64\n",
      "dtypes: float64(12), int64(1)\n",
      "memory usage: 600.0 bytes\n",
      "None\n",
      "\n"
     ]
    }
   ],
   "source": [
    "# Create a list of the 2 pandas dataframes\n",
    "dataframes = [temp_1991_to_1995_months, temp_1996_to_2000_months]\n",
    "\n",
    "# Check the metadata about the 2 dataframes by using a loop\n",
    "for df in dataframes:\n",
    "    print(df.info())\n",
    "    print(\"\")"
   ]
  },
  {
   "cell_type": "markdown",
   "metadata": {},
   "source": [
    "Question 7. Now, I write a loop to run the .describe() method on each column in the pandas dataframe containing the data for 1996 to 2000."
   ]
  },
  {
   "cell_type": "code",
   "execution_count": 34,
   "metadata": {},
   "outputs": [
    {
     "name": "stdout",
     "output_type": "stream",
     "text": [
      "         January\n",
      "count   5.000000\n",
      "mean   34.060000\n",
      "std     3.298939\n",
      "min    29.700000\n",
      "25%    31.300000\n",
      "50%    36.400000\n",
      "75%    36.400000\n",
      "max    36.500000\n",
      "\n",
      "        February\n",
      "count   5.000000\n",
      "mean   38.000000\n",
      "std     3.724916\n",
      "min    32.800000\n",
      "25%    36.400000\n",
      "50%    37.700000\n",
      "75%    41.000000\n",
      "max    42.100000\n",
      "\n",
      "           March\n",
      "count   5.000000\n",
      "mean   42.200000\n",
      "std     3.760319\n",
      "min    37.900000\n",
      "25%    38.700000\n",
      "50%    42.900000\n",
      "75%    45.500000\n",
      "max    46.000000\n",
      "\n",
      "           April\n",
      "count   5.000000\n",
      "mean   47.080000\n",
      "std     3.650616\n",
      "min    42.800000\n",
      "25%    44.500000\n",
      "50%    46.500000\n",
      "75%    50.400000\n",
      "max    51.200000\n",
      "\n",
      "           May\n",
      "count   5.0000\n",
      "mean   58.3400\n",
      "std     1.9995\n",
      "min    55.6000\n",
      "25%    57.4000\n",
      "50%    58.8000\n",
      "75%    58.9000\n",
      "max    61.0000\n",
      "\n",
      "            June\n",
      "count   5.000000\n",
      "mean   65.540000\n",
      "std     2.157081\n",
      "min    62.100000\n",
      "25%    64.800000\n",
      "50%    66.500000\n",
      "75%    66.900000\n",
      "max    67.400000\n",
      "\n",
      "            July\n",
      "count   5.000000\n",
      "mean   72.780000\n",
      "std     1.391761\n",
      "min    71.400000\n",
      "25%    71.500000\n",
      "50%    72.800000\n",
      "75%    73.500000\n",
      "max    74.700000\n",
      "\n",
      "          August\n",
      "count   5.000000\n",
      "mean   70.240000\n",
      "std     1.705286\n",
      "min    68.700000\n",
      "25%    69.300000\n",
      "50%    69.500000\n",
      "75%    70.700000\n",
      "max    73.000000\n",
      "\n",
      "       September\n",
      "count   5.000000\n",
      "mean   62.700000\n",
      "std     3.258067\n",
      "min    58.500000\n",
      "25%    60.800000\n",
      "50%    63.100000\n",
      "75%    64.000000\n",
      "max    67.100000\n",
      "\n",
      "         October\n",
      "count   5.000000\n",
      "mean   51.540000\n",
      "std     1.497665\n",
      "min    49.600000\n",
      "25%    50.400000\n",
      "50%    51.900000\n",
      "75%    52.700000\n",
      "max    53.100000\n",
      "\n",
      "        November\n",
      "count   5.000000\n",
      "mean   40.380000\n",
      "std     6.285062\n",
      "min    31.400000\n",
      "25%    37.900000\n",
      "50%    40.600000\n",
      "75%    44.000000\n",
      "max    48.000000\n",
      "\n",
      "       December\n",
      "count   5.00000\n",
      "mean   34.14000\n",
      "std     2.53239\n",
      "min    31.20000\n",
      "25%    32.20000\n",
      "50%    33.90000\n",
      "75%    36.50000\n",
      "max    36.90000\n",
      "\n"
     ]
    }
   ],
   "source": [
    "# Make a new list of the column names in the temp_1996_to_2000_months dataframe\n",
    "columnlist = ['January', 'February', 'March', 'April', 'May', 'June', 'July', 'August',\n",
    " 'September', 'October', 'November', 'December']\n",
    "\n",
    "# Check the metadata about the 2 dataframes by using a loop\n",
    "for column in columnlist:\n",
    "    temps = temp_1996_to_2000_months[[column]]\n",
    "    print(temps.describe())\n",
    "    print(\"\")"
   ]
  },
  {
   "cell_type": "markdown",
   "metadata": {},
   "source": [
    "Question 8. Herein I write a function that calculates the mean across columns of a numpy array."
   ]
  },
  {
   "cell_type": "code",
   "execution_count": 36,
   "metadata": {},
   "outputs": [],
   "source": [
    "# A function is defined to calculate the mean across the columns of a numpy array\n",
    "# array is the placeholder for the input parameter and will be assigned when the function is called\n",
    "\n",
    "def mean_stat_col(array):\n",
    "    \n",
    "    # Calculate the median across each column in a numpy array \n",
    "    # This function can take a numpy array as input\n",
    "    # This function can not take list or pandas dataframe as input\n",
    "    \n",
    "    stat_mean_col = np.mean(array, axis = 0)\n",
    "    return(stat_mean_col)"
   ]
  },
  {
   "cell_type": "markdown",
   "metadata": {},
   "source": [
    "Question 9. Next, I use the function created in the previous question (i.e. to calculate mean of columns in a numpy array) on the numpy array containing data for 1993 to 1997 and save the output to a new numpy array."
   ]
  },
  {
   "cell_type": "code",
   "execution_count": 40,
   "metadata": {},
   "outputs": [
    {
     "data": {
      "text/plain": [
       "array([0.902, 1.184, 1.608, 3.746, 3.898, 2.96 , 1.114, 2.19 , 2.444,\n",
       "       1.402, 1.776, 0.468])"
      ]
     },
     "execution_count": 40,
     "metadata": {},
     "output_type": "execute_result"
    }
   ],
   "source": [
    "# Call the function just made, applying it to the 'monthly_precip_1993_to_1997' array and save the output to a new array\n",
    "mean_90s_precip = np.array(mean_stat_col(monthly_precip_1993_to_1997))\n",
    "\n",
    "# Display the output of the new array\n",
    "mean_90s_precip"
   ]
  },
  {
   "cell_type": "markdown",
   "metadata": {},
   "source": [
    "Question 10.\n",
    "\n",
    "If I wanted to run the function I had just made on multiple numpy arrays, I would make a new list of all the arrays I wanted the function to iterate on, as well as another list that was temporarily empty, and make a loop that called that function within the loop, iterating on an implicit variable that was a placeholder for each array to be iterated on from the list.  The output of the function acting on those original numpy arrays would then be saved as a new numpy array using that empty list, which gets values appended to it inside the loop from each output of the function.  Once that list was filled with values, I would have it save as a new numpy array, outside of the loop."
   ]
  },
  {
   "cell_type": "code",
   "execution_count": null,
   "metadata": {},
   "outputs": [],
   "source": []
  }
 ],
 "metadata": {
  "kernelspec": {
   "display_name": "Python 3",
   "language": "python",
   "name": "python3"
  },
  "language_info": {
   "codemirror_mode": {
    "name": "ipython",
    "version": 3
   },
   "file_extension": ".py",
   "mimetype": "text/x-python",
   "name": "python",
   "nbconvert_exporter": "python",
   "pygments_lexer": "ipython3",
   "version": "3.6.5"
  }
 },
 "nbformat": 4,
 "nbformat_minor": 2
}
