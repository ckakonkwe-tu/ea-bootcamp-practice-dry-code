{
 "cells": [
  {
   "cell_type": "markdown",
   "metadata": {},
   "source": [
    "# Hands-on Practice Writing DRY Code\n",
    "\n",
    "**Author:** John Bryan Curtis\n",
    "\n",
    "**Date:** August 20, 2018"
   ]
  },
  {
   "cell_type": "markdown",
   "metadata": {},
   "source": [
    "## Import Python Packages\n",
    "\n",
    "In the questions below, you will be working with **numpy arrays** and **pandas dataframes**.\n",
    "\n",
    "You will also be downloading files using **urllib.request** and accessing directories and files on your computer using **os**. Last, you will also be creating **plots** of your data."
   ]
  },
  {
   "cell_type": "code",
   "execution_count": 27,
   "metadata": {},
   "outputs": [
    {
     "name": "stdout",
     "output_type": "stream",
     "text": [
      "import of packages successful\n"
     ]
    }
   ],
   "source": [
    "# import the necessary Python packages\n",
    "import os # package to access local directory and set working directory\n",
    "import glob # package for creating lists of directory and file names\n",
    "import urllib.request # package to download data from url\n",
    "import numpy as np # package to work with numpy arrays\n",
    "import pandas as pd # package to work with pandas dataframes\n",
    "import matplotlib.pyplot as plt # plotting package\n",
    "\n",
    "# print message after packages imported successfully\n",
    "print(\"import of packages successful\")"
   ]
  },
  {
   "cell_type": "markdown",
   "metadata": {},
   "source": [
    "## Get Data\n",
    "\n",
    "Numpys:\n",
    "\n",
    "1. monthly-precip-1988-to-1992.csv from https://ndownloader.figshare.com/files/12807380\n",
    "\n",
    "2. monthly-precip-1993-to-1997.csv from https://ndownloader.figshare.com/files/12807383\n",
    "\n",
    "Pandas:\n",
    "\n",
    "1. temp-1991-to-1995-months.csv from https://ndownloader.figshare.com/files/12807389\n",
    "\n",
    "2. temp-1996-to-2000-months.csv from https://ndownloader.figshare.com/files/12807386"
   ]
  },
  {
   "cell_type": "code",
   "execution_count": 28,
   "metadata": {},
   "outputs": [],
   "source": [
    "# set the working directory to the `earth-analytics-bootcamp` directory\n",
    "os.chdir(\"/Users/JBC/earth-analytics-bootcamp/\")"
   ]
  },
  {
   "cell_type": "code",
   "execution_count": 29,
   "metadata": {},
   "outputs": [
    {
     "name": "stdout",
     "output_type": "stream",
     "text": [
      "datasets downloaded successfully\n"
     ]
    },
    {
     "data": {
      "text/plain": [
       "['avg-monthly-precip.txt',\n",
       " 'avg-monthly-temp.txt',\n",
       " 'avg-precip-months-seasons.csv',\n",
       " 'avg-temp-months-seasons.csv',\n",
       " 'boulder-precip-1996-to-2006-months.csv',\n",
       " 'boulder-precip-2007-to-2017-months-seasons.csv',\n",
       " 'boulder-temp-2004-to-2009.csv',\n",
       " 'boulder-temp-2010-to-2014.csv',\n",
       " 'boulder-temp-2015.txt',\n",
       " 'boulder-temp-2016.txt',\n",
       " 'boulder-temp-2017.txt',\n",
       " 'monthly-precip-1988-to-1992.csv',\n",
       " 'monthly-precip-1993-to-1997.csv',\n",
       " 'monthly-precip-2002-2013.csv',\n",
       " 'months.txt',\n",
       " 'precip-2002-2013-months-seasons.csv',\n",
       " 'snow-2007-to-2017-months-seasons.csv',\n",
       " 'snow-2007-to-2017.csv',\n",
       " 'temp-1991-to-1995-months.csv',\n",
       " 'temp-1996-to-2000-months.csv']"
      ]
     },
     "execution_count": 29,
     "metadata": {},
     "output_type": "execute_result"
    }
   ],
   "source": [
    "# download .csv containing monthly precip between 1988 and 1992\n",
    "urllib.request.urlretrieve(url = \"https://ndownloader.figshare.com/files/12807380\", \n",
    "                           filename = \"data/monthly-precip-1988-to-1992.csv\")\n",
    "\n",
    "# download .csv containing monthly precip between 1993 and 1997\n",
    "urllib.request.urlretrieve(url = \"https://ndownloader.figshare.com/files/12807383\", \n",
    "                           filename = \"data/monthly-precip-1993-to-1997.csv\")\n",
    "\n",
    "# download .csv containing monthly temperature between 1991 and 1995\n",
    "urllib.request.urlretrieve(url = \"https://ndownloader.figshare.com/files/12807389\", \n",
    "                           filename = \"data/temp-1991-to-1995-months.csv\")\n",
    "\n",
    "# download .csv containing monthly temperature between 1996 and 2000\n",
    "urllib.request.urlretrieve(url = \"https://ndownloader.figshare.com/files/12807386\", \n",
    "                           filename = \"data/temp-1996-to-2000-months.csv\")\n",
    "\n",
    "# print message that data downloads were successful\n",
    "print(\"datasets downloaded successfully\")\n",
    "\n",
    "# check that files are in 'data' folder\n",
    "os.listdir(\"/Users/JBC/earth-analytics-bootcamp/data/\")\n"
   ]
  },
  {
   "cell_type": "code",
   "execution_count": 30,
   "metadata": {},
   "outputs": [
    {
     "name": "stdout",
     "output_type": "stream",
     "text": [
      "[[0.4  1.14 2.53 1.48 3.7  0.7  0.71 1.33 2.02 0.03 0.75 2.16]\n",
      " [1.19 1.27 0.97 1.95 2.68 2.93 1.43 1.63 3.54 1.4  0.09 1.54]\n",
      " [1.04 1.32 4.55 2.16 1.73 0.39 4.23 1.13 1.84 0.96 1.6  0.75]\n",
      " [1.05 0.15 0.43 2.41 2.9  3.59 3.11 2.08 1.21 0.93 3.3  0.01]\n",
      " [0.67 0.   5.17 0.46 1.7  0.96 1.13 3.08 0.02 0.79 2.56 0.84]]\n",
      "\n",
      "[[0.25 0.9  2.15 2.56 1.73 3.38 1.4  1.04 3.32 2.42 2.17 0.55]\n",
      " [0.86 1.37 1.61 3.46 1.35 0.93 0.35 2.56 0.54 1.02 2.25 0.49]\n",
      " [0.64 1.53 1.21 5.45 9.59 4.03 0.72 1.45 2.96 0.59 1.51 0.25]\n",
      " [1.89 0.29 2.16 1.49 4.63 2.77 1.96 0.63 3.48 0.28 1.43 0.37]\n",
      " [0.87 1.83 0.91 5.77 2.19 3.69 1.14 5.27 1.92 2.7  1.52 0.68]]\n"
     ]
    }
   ],
   "source": [
    "# import precip data into new numpy arrays\n",
    "\n",
    "precip_1988_to_1992 = np.loadtxt(fname=\"/Users/JBC/earth-analytics-bootcamp/data/monthly-precip-1988-to-1992.csv\", delimiter=\",\")\n",
    "\n",
    "precip_1993_to_1997 = np.loadtxt(fname=\"/Users/JBC/earth-analytics-bootcamp/data/monthly-precip-1993-to-1997.csv\", delimiter=\",\")\n",
    "\n",
    "\n",
    "print(precip_1988_to_1992)\n",
    "print(\"\")\n",
    "print(precip_1993_to_1997)"
   ]
  },
  {
   "cell_type": "code",
   "execution_count": 31,
   "metadata": {},
   "outputs": [
    {
     "data": {
      "text/html": [
       "<div>\n",
       "<style scoped>\n",
       "    .dataframe tbody tr th:only-of-type {\n",
       "        vertical-align: middle;\n",
       "    }\n",
       "\n",
       "    .dataframe tbody tr th {\n",
       "        vertical-align: top;\n",
       "    }\n",
       "\n",
       "    .dataframe thead th {\n",
       "        text-align: right;\n",
       "    }\n",
       "</style>\n",
       "<table border=\"1\" class=\"dataframe\">\n",
       "  <thead>\n",
       "    <tr style=\"text-align: right;\">\n",
       "      <th></th>\n",
       "      <th>Year</th>\n",
       "      <th>January</th>\n",
       "      <th>February</th>\n",
       "      <th>March</th>\n",
       "      <th>April</th>\n",
       "      <th>May</th>\n",
       "      <th>June</th>\n",
       "      <th>July</th>\n",
       "      <th>August</th>\n",
       "      <th>September</th>\n",
       "      <th>October</th>\n",
       "      <th>November</th>\n",
       "      <th>December</th>\n",
       "    </tr>\n",
       "  </thead>\n",
       "  <tbody>\n",
       "    <tr>\n",
       "      <th>0</th>\n",
       "      <td>1991</td>\n",
       "      <td>29.9</td>\n",
       "      <td>40.9</td>\n",
       "      <td>42.8</td>\n",
       "      <td>47.8</td>\n",
       "      <td>58.2</td>\n",
       "      <td>66.6</td>\n",
       "      <td>70.5</td>\n",
       "      <td>69.2</td>\n",
       "      <td>61.7</td>\n",
       "      <td>52.1</td>\n",
       "      <td>36.8</td>\n",
       "      <td>35.3</td>\n",
       "    </tr>\n",
       "    <tr>\n",
       "      <th>1</th>\n",
       "      <td>1992</td>\n",
       "      <td>35.9</td>\n",
       "      <td>40.6</td>\n",
       "      <td>43.3</td>\n",
       "      <td>54.3</td>\n",
       "      <td>59.1</td>\n",
       "      <td>62.9</td>\n",
       "      <td>68.3</td>\n",
       "      <td>66.3</td>\n",
       "      <td>64.4</td>\n",
       "      <td>54.1</td>\n",
       "      <td>34.1</td>\n",
       "      <td>29.2</td>\n",
       "    </tr>\n",
       "    <tr>\n",
       "      <th>2</th>\n",
       "      <td>1993</td>\n",
       "      <td>28.3</td>\n",
       "      <td>30.6</td>\n",
       "      <td>42.4</td>\n",
       "      <td>47.6</td>\n",
       "      <td>57.5</td>\n",
       "      <td>64.5</td>\n",
       "      <td>69.5</td>\n",
       "      <td>67.3</td>\n",
       "      <td>58.8</td>\n",
       "      <td>48.7</td>\n",
       "      <td>35.6</td>\n",
       "      <td>35.4</td>\n",
       "    </tr>\n",
       "    <tr>\n",
       "      <th>3</th>\n",
       "      <td>1994</td>\n",
       "      <td>35.5</td>\n",
       "      <td>31.9</td>\n",
       "      <td>43.9</td>\n",
       "      <td>47.6</td>\n",
       "      <td>60.8</td>\n",
       "      <td>70.0</td>\n",
       "      <td>71.2</td>\n",
       "      <td>70.9</td>\n",
       "      <td>65.0</td>\n",
       "      <td>50.6</td>\n",
       "      <td>36.6</td>\n",
       "      <td>36.1</td>\n",
       "    </tr>\n",
       "    <tr>\n",
       "      <th>4</th>\n",
       "      <td>1995</td>\n",
       "      <td>34.5</td>\n",
       "      <td>38.3</td>\n",
       "      <td>42.1</td>\n",
       "      <td>45.1</td>\n",
       "      <td>50.9</td>\n",
       "      <td>62.4</td>\n",
       "      <td>70.5</td>\n",
       "      <td>74.0</td>\n",
       "      <td>60.4</td>\n",
       "      <td>50.5</td>\n",
       "      <td>45.0</td>\n",
       "      <td>36.3</td>\n",
       "    </tr>\n",
       "  </tbody>\n",
       "</table>\n",
       "</div>"
      ],
      "text/plain": [
       "   Year  January  February  March  April   May  June  July  August  September  \\\n",
       "0  1991     29.9      40.9   42.8   47.8  58.2  66.6  70.5    69.2       61.7   \n",
       "1  1992     35.9      40.6   43.3   54.3  59.1  62.9  68.3    66.3       64.4   \n",
       "2  1993     28.3      30.6   42.4   47.6  57.5  64.5  69.5    67.3       58.8   \n",
       "3  1994     35.5      31.9   43.9   47.6  60.8  70.0  71.2    70.9       65.0   \n",
       "4  1995     34.5      38.3   42.1   45.1  50.9  62.4  70.5    74.0       60.4   \n",
       "\n",
       "   October  November  December  \n",
       "0     52.1      36.8      35.3  \n",
       "1     54.1      34.1      29.2  \n",
       "2     48.7      35.6      35.4  \n",
       "3     50.6      36.6      36.1  \n",
       "4     50.5      45.0      36.3  "
      ]
     },
     "execution_count": 31,
     "metadata": {},
     "output_type": "execute_result"
    }
   ],
   "source": [
    "# import temp data into new pandas dataframes\n",
    "\n",
    "temp_1991_to_1995 = pd.read_csv(\"/Users/JBC/earth-analytics-bootcamp/data/temp-1991-to-1995-months.csv\")\n",
    "\n",
    "temp_1991_to_1995"
   ]
  },
  {
   "cell_type": "code",
   "execution_count": 32,
   "metadata": {},
   "outputs": [
    {
     "data": {
      "text/html": [
       "<div>\n",
       "<style scoped>\n",
       "    .dataframe tbody tr th:only-of-type {\n",
       "        vertical-align: middle;\n",
       "    }\n",
       "\n",
       "    .dataframe tbody tr th {\n",
       "        vertical-align: top;\n",
       "    }\n",
       "\n",
       "    .dataframe thead th {\n",
       "        text-align: right;\n",
       "    }\n",
       "</style>\n",
       "<table border=\"1\" class=\"dataframe\">\n",
       "  <thead>\n",
       "    <tr style=\"text-align: right;\">\n",
       "      <th></th>\n",
       "      <th>Year</th>\n",
       "      <th>January</th>\n",
       "      <th>February</th>\n",
       "      <th>March</th>\n",
       "      <th>April</th>\n",
       "      <th>May</th>\n",
       "      <th>June</th>\n",
       "      <th>July</th>\n",
       "      <th>August</th>\n",
       "      <th>September</th>\n",
       "      <th>October</th>\n",
       "      <th>November</th>\n",
       "      <th>December</th>\n",
       "    </tr>\n",
       "  </thead>\n",
       "  <tbody>\n",
       "    <tr>\n",
       "      <th>0</th>\n",
       "      <td>1996</td>\n",
       "      <td>29.7</td>\n",
       "      <td>37.7</td>\n",
       "      <td>37.9</td>\n",
       "      <td>50.4</td>\n",
       "      <td>58.9</td>\n",
       "      <td>66.9</td>\n",
       "      <td>71.5</td>\n",
       "      <td>69.5</td>\n",
       "      <td>60.8</td>\n",
       "      <td>53.1</td>\n",
       "      <td>40.6</td>\n",
       "      <td>36.5</td>\n",
       "    </tr>\n",
       "    <tr>\n",
       "      <th>1</th>\n",
       "      <td>1997</td>\n",
       "      <td>31.3</td>\n",
       "      <td>32.8</td>\n",
       "      <td>45.5</td>\n",
       "      <td>42.8</td>\n",
       "      <td>57.4</td>\n",
       "      <td>66.5</td>\n",
       "      <td>71.4</td>\n",
       "      <td>68.7</td>\n",
       "      <td>64.0</td>\n",
       "      <td>52.7</td>\n",
       "      <td>37.9</td>\n",
       "      <td>33.9</td>\n",
       "    </tr>\n",
       "    <tr>\n",
       "      <th>2</th>\n",
       "      <td>1998</td>\n",
       "      <td>36.5</td>\n",
       "      <td>36.4</td>\n",
       "      <td>38.7</td>\n",
       "      <td>46.5</td>\n",
       "      <td>58.8</td>\n",
       "      <td>62.1</td>\n",
       "      <td>72.8</td>\n",
       "      <td>70.7</td>\n",
       "      <td>67.1</td>\n",
       "      <td>50.4</td>\n",
       "      <td>44.0</td>\n",
       "      <td>32.2</td>\n",
       "    </tr>\n",
       "    <tr>\n",
       "      <th>3</th>\n",
       "      <td>1999</td>\n",
       "      <td>36.4</td>\n",
       "      <td>42.1</td>\n",
       "      <td>46.0</td>\n",
       "      <td>44.5</td>\n",
       "      <td>55.6</td>\n",
       "      <td>64.8</td>\n",
       "      <td>73.5</td>\n",
       "      <td>69.3</td>\n",
       "      <td>58.5</td>\n",
       "      <td>51.9</td>\n",
       "      <td>48.0</td>\n",
       "      <td>36.9</td>\n",
       "    </tr>\n",
       "    <tr>\n",
       "      <th>4</th>\n",
       "      <td>2000</td>\n",
       "      <td>36.4</td>\n",
       "      <td>41.0</td>\n",
       "      <td>42.9</td>\n",
       "      <td>51.2</td>\n",
       "      <td>61.0</td>\n",
       "      <td>67.4</td>\n",
       "      <td>74.7</td>\n",
       "      <td>73.0</td>\n",
       "      <td>63.1</td>\n",
       "      <td>49.6</td>\n",
       "      <td>31.4</td>\n",
       "      <td>31.2</td>\n",
       "    </tr>\n",
       "  </tbody>\n",
       "</table>\n",
       "</div>"
      ],
      "text/plain": [
       "   Year  January  February  March  April   May  June  July  August  September  \\\n",
       "0  1996     29.7      37.7   37.9   50.4  58.9  66.9  71.5    69.5       60.8   \n",
       "1  1997     31.3      32.8   45.5   42.8  57.4  66.5  71.4    68.7       64.0   \n",
       "2  1998     36.5      36.4   38.7   46.5  58.8  62.1  72.8    70.7       67.1   \n",
       "3  1999     36.4      42.1   46.0   44.5  55.6  64.8  73.5    69.3       58.5   \n",
       "4  2000     36.4      41.0   42.9   51.2  61.0  67.4  74.7    73.0       63.1   \n",
       "\n",
       "   October  November  December  \n",
       "0     53.1      40.6      36.5  \n",
       "1     52.7      37.9      33.9  \n",
       "2     50.4      44.0      32.2  \n",
       "3     51.9      48.0      36.9  \n",
       "4     49.6      31.4      31.2  "
      ]
     },
     "execution_count": 32,
     "metadata": {},
     "output_type": "execute_result"
    }
   ],
   "source": [
    "# import temp data into new pandas dataframes\n",
    "\n",
    "temp_1996_to_2000 = pd.read_csv(\"/Users/JBC/earth-analytics-bootcamp/data/temp-1996-to-2000-months.csv\")\n",
    "\n",
    "temp_1996_to_2000"
   ]
  },
  {
   "cell_type": "markdown",
   "metadata": {},
   "source": [
    "## Question 1: Use Indexing to Select from Numpy Array\n",
    "\n",
    "Select the second row of data (including all columns) from the numpy array containing the data for 1988 to 1992, and save to a new numpy array"
   ]
  },
  {
   "cell_type": "code",
   "execution_count": 33,
   "metadata": {},
   "outputs": [
    {
     "data": {
      "text/plain": [
       "array([[1.19, 1.27, 0.97, 1.95, 2.68, 2.93, 1.43, 1.63, 3.54, 1.4 , 0.09,\n",
       "        1.54]])"
      ]
     },
     "execution_count": 33,
     "metadata": {},
     "output_type": "execute_result"
    }
   ],
   "source": [
    "precip_1988 = precip_1988_to_1992[1:2,]\n",
    "\n",
    "precip_1988"
   ]
  },
  {
   "cell_type": "markdown",
   "metadata": {},
   "source": [
    "## Question 2: Write a Conditional Statement to Check Dimensions of Numpy Array\n",
    "\n",
    "Write a conditional statement that checks whether the numpy array created in the previous question (i.e. the selection) is a one-dimensional numpy array"
   ]
  },
  {
   "cell_type": "code",
   "execution_count": 34,
   "metadata": {},
   "outputs": [
    {
     "name": "stdout",
     "output_type": "stream",
     "text": [
      "precip_1988 is NOT one-dimensional array\n"
     ]
    }
   ],
   "source": [
    "if precip_1988.ndim == 1:\n",
    "    print(\"precip_1988 is a one-dimensional array\")\n",
    "    \n",
    "else:\n",
    "    print(\"precip_1988 is NOT one-dimensional array\")"
   ]
  },
  {
   "cell_type": "markdown",
   "metadata": {},
   "source": [
    "## Question 3: Expand Conditional Statement to Execute Different Code\n",
    "\n",
    "Modify your conditional statement from the previous question, so that your if and else statements execute different code, not just printing messages.\n",
    "\n",
    "For the if statement, rather than printing a message, print the shape of the numpy array from the previous question (i.e. the selection).\n",
    "\n",
    "For the else statement, rather than printing a message, include the following code lines to be executed (i.e. if the array is not one-dimensional):\n",
    "\n",
    "arrayname_1d = arrayname.flatten()\n",
    "\n",
    "print(arrayname_1d.shape)"
   ]
  },
  {
   "cell_type": "code",
   "execution_count": 35,
   "metadata": {},
   "outputs": [
    {
     "name": "stdout",
     "output_type": "stream",
     "text": [
      "(12,)\n",
      "Dimensions of precip_1988_1d is 1 dimension\n"
     ]
    }
   ],
   "source": [
    "if precip_1988.ndim == 1:\n",
    "    print(precip_1988.shape)\n",
    "    \n",
    "else:\n",
    "    precip_1988_1d = precip_1988.flatten()\n",
    "    print(precip_1988_1d.shape)\n",
    "    print(\"Dimensions of precip_1988_1d is\", precip_1988_1d.ndim, \"dimension\")"
   ]
  },
  {
   "cell_type": "markdown",
   "metadata": {},
   "source": [
    "## Question 4: Write a Conditional Statement to Check Dimensions of Two Numpy Arrays\n",
    "\n",
    "Manually create a one-dimensional numpy array that contains the month names (i.e. January to December).\n",
    "\n",
    "Write a conditional statement to check that this new array for month names has the same shape as the numpy array from the previous question (i.e. the selection)."
   ]
  },
  {
   "cell_type": "code",
   "execution_count": 36,
   "metadata": {},
   "outputs": [
    {
     "data": {
      "text/plain": [
       "array(['January', 'February', 'March', 'April', 'May', 'June', 'July',\n",
       "       'August', 'September', 'October', 'November', 'December'],\n",
       "      dtype='<U9')"
      ]
     },
     "execution_count": 36,
     "metadata": {},
     "output_type": "execute_result"
    }
   ],
   "source": [
    "months_np = np.array(['January', 'February', 'March', 'April', 'May', 'June', 'July', 'August', 'September', 'October', 'November', 'December'])\n",
    "\n",
    "months_np"
   ]
  },
  {
   "cell_type": "code",
   "execution_count": 37,
   "metadata": {},
   "outputs": [
    {
     "name": "stdout",
     "output_type": "stream",
     "text": [
      "These arrays have the same shape and can be plotted together\n"
     ]
    }
   ],
   "source": [
    "if months_np.shape == precip_1988_1d.shape:\n",
    "    \n",
    "    print(\"These arrays have the same shape and can be plotted together\")\n",
    "    \n",
    "else:\n",
    "    print(\"These arrays do NOT have the same shape and can be plotted together\")"
   ]
  },
  {
   "cell_type": "markdown",
   "metadata": {},
   "source": [
    "## Question 5: Practice Pseudo Coding\n",
    "\n",
    "**Reflect on your conditional statement from the previous question.**\n",
    "\n",
    "**Write a sentence or two on how you could expand on your conditional statement from the previous question to create a plot from the two numpy arrays if they do indeed have the same shape.**\n",
    "\n",
    "**Hint: what did you do in Question 3 to expand on your conditional statement?**\n",
    "\n",
    "**A:** The *goal* is to create a plot of precipitation by month only if the precip and month arrays are the same shape. I would *code* this with a conditional statement that would plot precip by month if the arrays were the same shape and not plot if the arrays were a different shape. The plt functions would be called in the True space. "
   ]
  },
  {
   "cell_type": "markdown",
   "metadata": {},
   "source": [
    "## Question 6: Loop on Pandas Dataframes\n",
    "\n",
    "Write a loop to run the info() method on the two pandas dataframes that you imported in this activity, and print the results."
   ]
  },
  {
   "cell_type": "code",
   "execution_count": 38,
   "metadata": {},
   "outputs": [
    {
     "name": "stdout",
     "output_type": "stream",
     "text": [
      "<class 'pandas.core.frame.DataFrame'>\n",
      "RangeIndex: 5 entries, 0 to 4\n",
      "Data columns (total 13 columns):\n",
      "Year         5 non-null int64\n",
      "January      5 non-null float64\n",
      "February     5 non-null float64\n",
      "March        5 non-null float64\n",
      "April        5 non-null float64\n",
      "May          5 non-null float64\n",
      "June         5 non-null float64\n",
      "July         5 non-null float64\n",
      "August       5 non-null float64\n",
      "September    5 non-null float64\n",
      "October      5 non-null float64\n",
      "November     5 non-null float64\n",
      "December     5 non-null float64\n",
      "dtypes: float64(12), int64(1)\n",
      "memory usage: 600.0 bytes\n",
      "None\n",
      "\n",
      "<class 'pandas.core.frame.DataFrame'>\n",
      "RangeIndex: 5 entries, 0 to 4\n",
      "Data columns (total 13 columns):\n",
      "Year         5 non-null int64\n",
      "January      5 non-null float64\n",
      "February     5 non-null float64\n",
      "March        5 non-null float64\n",
      "April        5 non-null float64\n",
      "May          5 non-null float64\n",
      "June         5 non-null float64\n",
      "July         5 non-null float64\n",
      "August       5 non-null float64\n",
      "September    5 non-null float64\n",
      "October      5 non-null float64\n",
      "November     5 non-null float64\n",
      "December     5 non-null float64\n",
      "dtypes: float64(12), int64(1)\n",
      "memory usage: 600.0 bytes\n",
      "None\n",
      "\n"
     ]
    }
   ],
   "source": [
    "# create a list of the pandas dataframes\n",
    "pandas_list = [temp_1991_to_1995 , temp_1996_to_2000]\n",
    "\n",
    "for i in pandas_list:\n",
    "    \n",
    "    print(i.info())\n",
    "    print(\"\")"
   ]
  },
  {
   "cell_type": "markdown",
   "metadata": {},
   "source": [
    "## Question 7: Loop on Columns in Pandas Dataframes\n",
    "\n",
    "Write a loop to run the .describe() method on each column in the pandas dataframe containing the data for 1996 to 2000)."
   ]
  },
  {
   "cell_type": "code",
   "execution_count": 39,
   "metadata": {},
   "outputs": [
    {
     "name": "stdout",
     "output_type": "stream",
     "text": [
      "         January\n",
      "count   5.000000\n",
      "mean   34.060000\n",
      "std     3.298939\n",
      "min    29.700000\n",
      "25%    31.300000\n",
      "50%    36.400000\n",
      "75%    36.400000\n",
      "max    36.500000\n",
      "        February\n",
      "count   5.000000\n",
      "mean   38.000000\n",
      "std     3.724916\n",
      "min    32.800000\n",
      "25%    36.400000\n",
      "50%    37.700000\n",
      "75%    41.000000\n",
      "max    42.100000\n",
      "           March\n",
      "count   5.000000\n",
      "mean   42.200000\n",
      "std     3.760319\n",
      "min    37.900000\n",
      "25%    38.700000\n",
      "50%    42.900000\n",
      "75%    45.500000\n",
      "max    46.000000\n",
      "           April\n",
      "count   5.000000\n",
      "mean   47.080000\n",
      "std     3.650616\n",
      "min    42.800000\n",
      "25%    44.500000\n",
      "50%    46.500000\n",
      "75%    50.400000\n",
      "max    51.200000\n",
      "           May\n",
      "count   5.0000\n",
      "mean   58.3400\n",
      "std     1.9995\n",
      "min    55.6000\n",
      "25%    57.4000\n",
      "50%    58.8000\n",
      "75%    58.9000\n",
      "max    61.0000\n",
      "            June\n",
      "count   5.000000\n",
      "mean   65.540000\n",
      "std     2.157081\n",
      "min    62.100000\n",
      "25%    64.800000\n",
      "50%    66.500000\n",
      "75%    66.900000\n",
      "max    67.400000\n",
      "            July\n",
      "count   5.000000\n",
      "mean   72.780000\n",
      "std     1.391761\n",
      "min    71.400000\n",
      "25%    71.500000\n",
      "50%    72.800000\n",
      "75%    73.500000\n",
      "max    74.700000\n",
      "          August\n",
      "count   5.000000\n",
      "mean   70.240000\n",
      "std     1.705286\n",
      "min    68.700000\n",
      "25%    69.300000\n",
      "50%    69.500000\n",
      "75%    70.700000\n",
      "max    73.000000\n",
      "       September\n",
      "count   5.000000\n",
      "mean   62.700000\n",
      "std     3.258067\n",
      "min    58.500000\n",
      "25%    60.800000\n",
      "50%    63.100000\n",
      "75%    64.000000\n",
      "max    67.100000\n",
      "         October\n",
      "count   5.000000\n",
      "mean   51.540000\n",
      "std     1.497665\n",
      "min    49.600000\n",
      "25%    50.400000\n",
      "50%    51.900000\n",
      "75%    52.700000\n",
      "max    53.100000\n",
      "        November\n",
      "count   5.000000\n",
      "mean   40.380000\n",
      "std     6.285062\n",
      "min    31.400000\n",
      "25%    37.900000\n",
      "50%    40.600000\n",
      "75%    44.000000\n",
      "max    48.000000\n",
      "       December\n",
      "count   5.00000\n",
      "mean   34.14000\n",
      "std     2.53239\n",
      "min    31.20000\n",
      "25%    32.20000\n",
      "50%    33.90000\n",
      "75%    36.50000\n",
      "max    36.90000\n"
     ]
    }
   ],
   "source": [
    "# Set year as the index for temp_1996_to_2000 (only descibe month columns below)\n",
    "\n",
    "temp_1996_to_2000 = temp_1996_to_2000.set_index(\"Year\")\n",
    "\n",
    "# Create a list of column names for the 1996 to 2000 temperature data (pandas dataframe)\n",
    "\n",
    "months = list(temp_1996_to_2000)\n",
    "\n",
    "# For loop to calculate summary stats for each month (column) across multiple years (row)\n",
    "\n",
    "for i in months:\n",
    "    \n",
    "    print(temp_1996_to_2000[[i]].describe())\n",
    "    #print(\"\")\n",
    "    "
   ]
  },
  {
   "cell_type": "markdown",
   "metadata": {},
   "source": [
    "## Question 8: Write Function to Summarize Numpy Array Using Axes\n",
    "\n",
    "Write a function that calculates the mean across columns of a numpy array."
   ]
  },
  {
   "cell_type": "code",
   "execution_count": 40,
   "metadata": {},
   "outputs": [],
   "source": [
    "# function to calculate mean for each month (column) of precip in 1993_to_1997 numpy array\n",
    "\n",
    "def np_mean(array):\n",
    "    \n",
    "    # calculate mean of each column in two-dimensional numpy array\n",
    "    # function can take a numpy array as input\n",
    "    # function can not take list or pandas dataframe as input\n",
    "    \n",
    "    mean_column = np.mean(array, axis = 0)\n",
    "    return(mean_column)\n",
    "    "
   ]
  },
  {
   "cell_type": "code",
   "execution_count": 41,
   "metadata": {},
   "outputs": [
    {
     "data": {
      "text/plain": [
       "array([0.902, 1.184, 1.608, 3.746, 3.898, 2.96 , 1.114, 2.19 , 2.444,\n",
       "       1.402, 1.776, 0.468])"
      ]
     },
     "execution_count": 41,
     "metadata": {},
     "output_type": "execute_result"
    }
   ],
   "source": [
    "# call the mean function with precip_1993_1997 array and create new array from output\n",
    "year_mean_precip_1993_1997 = np.array(np_mean(precip_1993_to_1997))\n",
    "\n",
    "# print data in year_mean_precip_1993_1997\n",
    "year_mean_precip_1993_1997"
   ]
  },
  {
   "cell_type": "markdown",
   "metadata": {},
   "source": [
    "## Question 10: Practice Pseudo Coding\n",
    "\n",
    "**You have already learned how to save the output from one run of a function (see Question 9). What if you wanted to run the function on multiple numpy arrays?**\n",
    "\n",
    "**Write a sentence or two on what you would need to know how to do, in order to save the output from a function that is running on multiple arrays in a loop.**\n",
    "\n",
    "**Hint: think about how you can append values to a list using a loop (i.e. create an empty list that gets values appended to it in the loop).**\n",
    "\n",
    "\n",
    "**A:** The *goal* here is calculate the yearly mean precipitation from multiple numpy arrays. *To accomplish this*, I would need to know how to combine multiple arrays, call a function within a loop and then print the combine output of each function call. This would require creating an empty list to store the loop output that would allow each function output to be appended to the last."
   ]
  },
  {
   "cell_type": "code",
   "execution_count": null,
   "metadata": {},
   "outputs": [],
   "source": []
  }
 ],
 "metadata": {
  "kernelspec": {
   "display_name": "Python 3",
   "language": "python",
   "name": "python3"
  },
  "language_info": {
   "codemirror_mode": {
    "name": "ipython",
    "version": 3
   },
   "file_extension": ".py",
   "mimetype": "text/x-python",
   "name": "python",
   "nbconvert_exporter": "python",
   "pygments_lexer": "ipython3",
   "version": "3.6.5"
  }
 },
 "nbformat": 4,
 "nbformat_minor": 2
}
