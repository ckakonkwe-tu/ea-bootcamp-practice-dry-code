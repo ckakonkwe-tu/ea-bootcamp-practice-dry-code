{
 "cells": [
  {
   "cell_type": "markdown",
   "metadata": {},
   "source": [
    "##Practice on DRY code\n",
    "\n",
    "**Author:** Katy Sill\n",
    "\n",
    "**Date:** August 20th, 2018"
   ]
  },
  {
   "cell_type": "markdown",
   "metadata": {},
   "source": [
    "**Import Python Packages** *Import necessary packages including numpy, pandas, os, urllib.request and matplotlib.pyplot"
   ]
  },
  {
   "cell_type": "code",
   "execution_count": 57,
   "metadata": {},
   "outputs": [],
   "source": [
    "import numpy as np\n",
    "import pandas as pd\n",
    "import os\n",
    "import urllib.request\n",
    "import matplotlib.pyplot as plt"
   ]
  },
  {
   "cell_type": "markdown",
   "metadata": {},
   "source": [
    "**Get data and import into numpy arrays and pandas dataframes**"
   ]
  },
  {
   "cell_type": "code",
   "execution_count": 58,
   "metadata": {},
   "outputs": [
    {
     "name": "stdout",
     "output_type": "stream",
     "text": [
      "datasets downloaded successfully\n"
     ]
    }
   ],
   "source": [
    "# first set working directory\n",
    "os.chdir(\"C:/users/sill/earth-analytics-bootcamp/\")\n",
    "\n",
    "# download data from figshare\n",
    "urllib.request.urlretrieve(url=\"https://ndownloader.figshare.com/files/12807380\",\n",
    "                          filename = \"data/monthly-precip-1988-to-1992.csv\")\n",
    "urllib.request.urlretrieve(url=\"https://ndownloader.figshare.com/files/12807383\",\n",
    "                          filename = \"data/monthly-precip-1993-to-1997.csv\")\n",
    "\n",
    "# print message that data downloads were successful\n",
    "print(\"datasets downloaded successfully\")"
   ]
  },
  {
   "cell_type": "code",
   "execution_count": 59,
   "metadata": {},
   "outputs": [
    {
     "name": "stdout",
     "output_type": "stream",
     "text": [
      "[[0.4  1.14 2.53 1.48 3.7  0.7  0.71 1.33 2.02 0.03 0.75 2.16]\n",
      " [1.19 1.27 0.97 1.95 2.68 2.93 1.43 1.63 3.54 1.4  0.09 1.54]\n",
      " [1.04 1.32 4.55 2.16 1.73 0.39 4.23 1.13 1.84 0.96 1.6  0.75]\n",
      " [1.05 0.15 0.43 2.41 2.9  3.59 3.11 2.08 1.21 0.93 3.3  0.01]\n",
      " [0.67 0.   5.17 0.46 1.7  0.96 1.13 3.08 0.02 0.79 2.56 0.84]]\n",
      "[[0.25 0.9  2.15 2.56 1.73 3.38 1.4  1.04 3.32 2.42 2.17 0.55]\n",
      " [0.86 1.37 1.61 3.46 1.35 0.93 0.35 2.56 0.54 1.02 2.25 0.49]\n",
      " [0.64 1.53 1.21 5.45 9.59 4.03 0.72 1.45 2.96 0.59 1.51 0.25]\n",
      " [1.89 0.29 2.16 1.49 4.63 2.77 1.96 0.63 3.48 0.28 1.43 0.37]\n",
      " [0.87 1.83 0.91 5.77 2.19 3.69 1.14 5.27 1.92 2.7  1.52 0.68]]\n"
     ]
    }
   ],
   "source": [
    "# then load data into numpy arrays \n",
    "monthly_precip_1988_to_1992 = np.loadtxt(fname= \"C:/users/sill/earth-analytics-bootcamp/data//monthly-precip-1988-to-1992.csv\", delimiter = \",\")\n",
    "monthly_precip_1993_to_1997 = np.loadtxt(fname = \"C:/users/sill/earth-analytics-bootcamp/data/monthly-precip-1993-to-1997.csv\", delimiter = \",\")\n",
    "\n",
    "print(monthly_precip_1988_to_1992)\n",
    "print(monthly_precip_1993_to_1997)"
   ]
  },
  {
   "cell_type": "code",
   "execution_count": 64,
   "metadata": {},
   "outputs": [
    {
     "name": "stdout",
     "output_type": "stream",
     "text": [
      "datasets downloaded successfully\n"
     ]
    }
   ],
   "source": [
    "urllib.request.urlretrieve(url = \"https://ndownloader.figshare.com/files/12807389\",\n",
    "                        filename = \"data/monthly-precip-1988-to-1992.csv\")\n",
    "\n",
    "urllib.request.urlretrieve(url = \"https://ndownloader.figshare.com/files/12807386\", \n",
    "                           filename = \"data/temp-1996-to-2000-months.csv\")\n",
    "\n",
    "# print message that data downloads were successful\n",
    "print(\"datasets downloaded successfully\")"
   ]
  },
  {
   "cell_type": "code",
   "execution_count": 65,
   "metadata": {},
   "outputs": [
    {
     "data": {
      "text/html": [
       "<div>\n",
       "<style scoped>\n",
       "    .dataframe tbody tr th:only-of-type {\n",
       "        vertical-align: middle;\n",
       "    }\n",
       "\n",
       "    .dataframe tbody tr th {\n",
       "        vertical-align: top;\n",
       "    }\n",
       "\n",
       "    .dataframe thead th {\n",
       "        text-align: right;\n",
       "    }\n",
       "</style>\n",
       "<table border=\"1\" class=\"dataframe\">\n",
       "  <thead>\n",
       "    <tr style=\"text-align: right;\">\n",
       "      <th></th>\n",
       "      <th>Year</th>\n",
       "      <th>January</th>\n",
       "      <th>February</th>\n",
       "      <th>March</th>\n",
       "      <th>April</th>\n",
       "      <th>May</th>\n",
       "      <th>June</th>\n",
       "      <th>July</th>\n",
       "      <th>August</th>\n",
       "      <th>September</th>\n",
       "      <th>October</th>\n",
       "      <th>November</th>\n",
       "      <th>December</th>\n",
       "    </tr>\n",
       "  </thead>\n",
       "  <tbody>\n",
       "    <tr>\n",
       "      <th>0</th>\n",
       "      <td>1991</td>\n",
       "      <td>29.9</td>\n",
       "      <td>40.9</td>\n",
       "      <td>42.8</td>\n",
       "      <td>47.8</td>\n",
       "      <td>58.2</td>\n",
       "      <td>66.6</td>\n",
       "      <td>70.5</td>\n",
       "      <td>69.2</td>\n",
       "      <td>61.7</td>\n",
       "      <td>52.1</td>\n",
       "      <td>36.8</td>\n",
       "      <td>35.3</td>\n",
       "    </tr>\n",
       "    <tr>\n",
       "      <th>1</th>\n",
       "      <td>1992</td>\n",
       "      <td>35.9</td>\n",
       "      <td>40.6</td>\n",
       "      <td>43.3</td>\n",
       "      <td>54.3</td>\n",
       "      <td>59.1</td>\n",
       "      <td>62.9</td>\n",
       "      <td>68.3</td>\n",
       "      <td>66.3</td>\n",
       "      <td>64.4</td>\n",
       "      <td>54.1</td>\n",
       "      <td>34.1</td>\n",
       "      <td>29.2</td>\n",
       "    </tr>\n",
       "    <tr>\n",
       "      <th>2</th>\n",
       "      <td>1993</td>\n",
       "      <td>28.3</td>\n",
       "      <td>30.6</td>\n",
       "      <td>42.4</td>\n",
       "      <td>47.6</td>\n",
       "      <td>57.5</td>\n",
       "      <td>64.5</td>\n",
       "      <td>69.5</td>\n",
       "      <td>67.3</td>\n",
       "      <td>58.8</td>\n",
       "      <td>48.7</td>\n",
       "      <td>35.6</td>\n",
       "      <td>35.4</td>\n",
       "    </tr>\n",
       "    <tr>\n",
       "      <th>3</th>\n",
       "      <td>1994</td>\n",
       "      <td>35.5</td>\n",
       "      <td>31.9</td>\n",
       "      <td>43.9</td>\n",
       "      <td>47.6</td>\n",
       "      <td>60.8</td>\n",
       "      <td>70.0</td>\n",
       "      <td>71.2</td>\n",
       "      <td>70.9</td>\n",
       "      <td>65.0</td>\n",
       "      <td>50.6</td>\n",
       "      <td>36.6</td>\n",
       "      <td>36.1</td>\n",
       "    </tr>\n",
       "    <tr>\n",
       "      <th>4</th>\n",
       "      <td>1995</td>\n",
       "      <td>34.5</td>\n",
       "      <td>38.3</td>\n",
       "      <td>42.1</td>\n",
       "      <td>45.1</td>\n",
       "      <td>50.9</td>\n",
       "      <td>62.4</td>\n",
       "      <td>70.5</td>\n",
       "      <td>74.0</td>\n",
       "      <td>60.4</td>\n",
       "      <td>50.5</td>\n",
       "      <td>45.0</td>\n",
       "      <td>36.3</td>\n",
       "    </tr>\n",
       "  </tbody>\n",
       "</table>\n",
       "</div>"
      ],
      "text/plain": [
       "   Year  January  February  March  April   May  June  July  August  September  \\\n",
       "0  1991     29.9      40.9   42.8   47.8  58.2  66.6  70.5    69.2       61.7   \n",
       "1  1992     35.9      40.6   43.3   54.3  59.1  62.9  68.3    66.3       64.4   \n",
       "2  1993     28.3      30.6   42.4   47.6  57.5  64.5  69.5    67.3       58.8   \n",
       "3  1994     35.5      31.9   43.9   47.6  60.8  70.0  71.2    70.9       65.0   \n",
       "4  1995     34.5      38.3   42.1   45.1  50.9  62.4  70.5    74.0       60.4   \n",
       "\n",
       "   October  November  December  \n",
       "0     52.1      36.8      35.3  \n",
       "1     54.1      34.1      29.2  \n",
       "2     48.7      35.6      35.4  \n",
       "3     50.6      36.6      36.1  \n",
       "4     50.5      45.0      36.3  "
      ]
     },
     "execution_count": 65,
     "metadata": {},
     "output_type": "execute_result"
    }
   ],
   "source": [
    "# download data and import into pandas dataframes\n",
    "temp_1991_to_1995_months = pd.read_csv(\"C:/users/sill/earth-analytics-bootcamp/data/monthly-precip-1988-to-1992.csv\")\n",
    "temp_1996_to_2000_months = pd.read_csv(\"C:/users/sill/earth-analytics-bootcamp/data/temp-1996-to-2000-months.csv\")\n",
    "\n",
    "# print dataframes\n",
    "temp_1991_to_1995_months"
   ]
  },
  {
   "cell_type": "code",
   "execution_count": 66,
   "metadata": {},
   "outputs": [
    {
     "data": {
      "text/html": [
       "<div>\n",
       "<style scoped>\n",
       "    .dataframe tbody tr th:only-of-type {\n",
       "        vertical-align: middle;\n",
       "    }\n",
       "\n",
       "    .dataframe tbody tr th {\n",
       "        vertical-align: top;\n",
       "    }\n",
       "\n",
       "    .dataframe thead th {\n",
       "        text-align: right;\n",
       "    }\n",
       "</style>\n",
       "<table border=\"1\" class=\"dataframe\">\n",
       "  <thead>\n",
       "    <tr style=\"text-align: right;\">\n",
       "      <th></th>\n",
       "      <th>Year</th>\n",
       "      <th>January</th>\n",
       "      <th>February</th>\n",
       "      <th>March</th>\n",
       "      <th>April</th>\n",
       "      <th>May</th>\n",
       "      <th>June</th>\n",
       "      <th>July</th>\n",
       "      <th>August</th>\n",
       "      <th>September</th>\n",
       "      <th>October</th>\n",
       "      <th>November</th>\n",
       "      <th>December</th>\n",
       "    </tr>\n",
       "  </thead>\n",
       "  <tbody>\n",
       "    <tr>\n",
       "      <th>0</th>\n",
       "      <td>1996</td>\n",
       "      <td>29.7</td>\n",
       "      <td>37.7</td>\n",
       "      <td>37.9</td>\n",
       "      <td>50.4</td>\n",
       "      <td>58.9</td>\n",
       "      <td>66.9</td>\n",
       "      <td>71.5</td>\n",
       "      <td>69.5</td>\n",
       "      <td>60.8</td>\n",
       "      <td>53.1</td>\n",
       "      <td>40.6</td>\n",
       "      <td>36.5</td>\n",
       "    </tr>\n",
       "    <tr>\n",
       "      <th>1</th>\n",
       "      <td>1997</td>\n",
       "      <td>31.3</td>\n",
       "      <td>32.8</td>\n",
       "      <td>45.5</td>\n",
       "      <td>42.8</td>\n",
       "      <td>57.4</td>\n",
       "      <td>66.5</td>\n",
       "      <td>71.4</td>\n",
       "      <td>68.7</td>\n",
       "      <td>64.0</td>\n",
       "      <td>52.7</td>\n",
       "      <td>37.9</td>\n",
       "      <td>33.9</td>\n",
       "    </tr>\n",
       "    <tr>\n",
       "      <th>2</th>\n",
       "      <td>1998</td>\n",
       "      <td>36.5</td>\n",
       "      <td>36.4</td>\n",
       "      <td>38.7</td>\n",
       "      <td>46.5</td>\n",
       "      <td>58.8</td>\n",
       "      <td>62.1</td>\n",
       "      <td>72.8</td>\n",
       "      <td>70.7</td>\n",
       "      <td>67.1</td>\n",
       "      <td>50.4</td>\n",
       "      <td>44.0</td>\n",
       "      <td>32.2</td>\n",
       "    </tr>\n",
       "    <tr>\n",
       "      <th>3</th>\n",
       "      <td>1999</td>\n",
       "      <td>36.4</td>\n",
       "      <td>42.1</td>\n",
       "      <td>46.0</td>\n",
       "      <td>44.5</td>\n",
       "      <td>55.6</td>\n",
       "      <td>64.8</td>\n",
       "      <td>73.5</td>\n",
       "      <td>69.3</td>\n",
       "      <td>58.5</td>\n",
       "      <td>51.9</td>\n",
       "      <td>48.0</td>\n",
       "      <td>36.9</td>\n",
       "    </tr>\n",
       "    <tr>\n",
       "      <th>4</th>\n",
       "      <td>2000</td>\n",
       "      <td>36.4</td>\n",
       "      <td>41.0</td>\n",
       "      <td>42.9</td>\n",
       "      <td>51.2</td>\n",
       "      <td>61.0</td>\n",
       "      <td>67.4</td>\n",
       "      <td>74.7</td>\n",
       "      <td>73.0</td>\n",
       "      <td>63.1</td>\n",
       "      <td>49.6</td>\n",
       "      <td>31.4</td>\n",
       "      <td>31.2</td>\n",
       "    </tr>\n",
       "  </tbody>\n",
       "</table>\n",
       "</div>"
      ],
      "text/plain": [
       "   Year  January  February  March  April   May  June  July  August  September  \\\n",
       "0  1996     29.7      37.7   37.9   50.4  58.9  66.9  71.5    69.5       60.8   \n",
       "1  1997     31.3      32.8   45.5   42.8  57.4  66.5  71.4    68.7       64.0   \n",
       "2  1998     36.5      36.4   38.7   46.5  58.8  62.1  72.8    70.7       67.1   \n",
       "3  1999     36.4      42.1   46.0   44.5  55.6  64.8  73.5    69.3       58.5   \n",
       "4  2000     36.4      41.0   42.9   51.2  61.0  67.4  74.7    73.0       63.1   \n",
       "\n",
       "   October  November  December  \n",
       "0     53.1      40.6      36.5  \n",
       "1     52.7      37.9      33.9  \n",
       "2     50.4      44.0      32.2  \n",
       "3     51.9      48.0      36.9  \n",
       "4     49.6      31.4      31.2  "
      ]
     },
     "execution_count": 66,
     "metadata": {},
     "output_type": "execute_result"
    }
   ],
   "source": [
    "# print second dataframe with nice formatting\n",
    "temp_1996_to_2000_months"
   ]
  },
  {
   "cell_type": "markdown",
   "metadata": {},
   "source": [
    "Question 1: Use Indexing to Select from Numpy Array\n",
    "\n",
    "Select the second row of data (including all columns) from the numpy array containing the data for 1988 to 1992, and save to a new numpy array.\n",
    "\n",
    "Name your new array appropriately to indicate the year of data that it represents."
   ]
  },
  {
   "cell_type": "code",
   "execution_count": 67,
   "metadata": {},
   "outputs": [
    {
     "name": "stdout",
     "output_type": "stream",
     "text": [
      "[[1.19 1.27 0.97 1.95 2.68 2.93 1.43 1.63 3.54 1.4  0.09 1.54]]\n"
     ]
    }
   ],
   "source": [
    "monthly_precip_data_1989 = monthly_precip_1988_to_1992[1:2,:]\n",
    "print(monthly_precip_data_1989)"
   ]
  },
  {
   "cell_type": "markdown",
   "metadata": {},
   "source": [
    "Question 2: Write a Conditional Statement to Check Dimensions of Numpy Array\n",
    "\n",
    "Write a conditional statement that checks whether the numpy array created in the previous question (i.e. the selection) is a one-dimensional numpy array.\n",
    "\n",
    "Print a message stating whether or not the array is one-dimensional."
   ]
  },
  {
   "cell_type": "code",
   "execution_count": 68,
   "metadata": {},
   "outputs": [
    {
     "name": "stdout",
     "output_type": "stream",
     "text": [
      "This is not a one dimensional array, it has 2 dimensions\n"
     ]
    }
   ],
   "source": [
    "# conditional statement to verify if new numpy array is 1-dimensional\n",
    "\n",
    "if monthly_precip_data_1989.ndim == 1:\n",
    "    print(\"This is a one dimensional array\")\n",
    "    \n",
    "else:\n",
    "    print(\"This is not a one dimensional array, it has\", monthly_precip_data_1989.ndim, \"dimensions\")"
   ]
  },
  {
   "cell_type": "markdown",
   "metadata": {},
   "source": [
    "Question 3: Expand Conditional Statement to Execute Different Code\n",
    "\n",
    "Modify your conditional statement from the previous question, so that your if and else statements execute different code, not just printing messages.\n",
    "\n",
    "For the if statement, rather than printing a message, print the shape of the numpy array from the previous question (i.e. the selection).\n",
    "\n",
    "For the else statement, rather than printing a message, include the following code lines to be executed (i.e. if the array is not one-dimensional):\n",
    "\n",
    "    arrayname_1d = arrayname.flatten()\n",
    "    print(arrayname_1d.shape)\n",
    "\n",
    "These code lines will flatten a numpy array (in this case named arrayname) to a one-dimensional array, save it to a new array called arrayname_1d, and print the shape of the new array."
   ]
  },
  {
   "cell_type": "code",
   "execution_count": 69,
   "metadata": {},
   "outputs": [
    {
     "name": "stdout",
     "output_type": "stream",
     "text": [
      "(12,)\n"
     ]
    }
   ],
   "source": [
    "# conditional statement to verify if new numpy array is 1-dimensional\n",
    "\n",
    "if monthly_precip_data_1989.ndim == 1:\n",
    "    print(monthly_precip_data_1989.shape)\n",
    "    \n",
    "else:\n",
    "    monthly_precip_data_1989_1d = monthly_precip_data_1989.flatten()\n",
    "    print(monthly_precip_data_1989_1d.shape)\n"
   ]
  },
  {
   "cell_type": "markdown",
   "metadata": {},
   "source": [
    "Question 4: Write a Conditional Statement to Check Dimensions of Two Numpy Arrays\n",
    "\n",
    "Manually create a one-dimensional numpy array that contains the month names (i.e. January to December).\n",
    "\n",
    "Write a conditional statement to check that this new array for month names has the same shape as the numpy array from the previous question (i.e. the selection).\n",
    "\n",
    "Print a message stating whether are not these arrays have the same shape and can be plotted together."
   ]
  },
  {
   "cell_type": "code",
   "execution_count": 70,
   "metadata": {},
   "outputs": [
    {
     "name": "stdout",
     "output_type": "stream",
     "text": [
      "These arrays have the same dimensions and can be plotted together\n"
     ]
    }
   ],
   "source": [
    "# create numpy array with month names from Jan to Dec\n",
    "months = np.array([\"January\", \"February\", \"March\", \"April\", \"May\", \"June\", \"July\", \"August\", \"September\", \"October\", \"November\", \"December\"])\n",
    "\n",
    "if months.ndim == monthly_precip_data_1989_1d.ndim:\n",
    "    print(\"These arrays have the same dimensions and can be plotted together\")\n",
    "else:\n",
    "    print(\"These arrays do NOT have the same dimensions and CANNOT be plotted together\")"
   ]
  },
  {
   "cell_type": "markdown",
   "metadata": {},
   "source": [
    "Question 5: Practice Pseudo Coding\n",
    "\n",
    "Reflect on your conditional statement from the previous question.\n",
    "\n",
    "Write a sentence or two on how you could expand on your conditional statement from the previous question to create a plot from the two numpy arrays if they do indeed have the same shape.\n",
    "\n",
    "Hint: what did you do in Question 3 to expand on your conditional statement?"
   ]
  },
  {
   "cell_type": "markdown",
   "metadata": {},
   "source": [
    "In the if statement, you could include the code for plotting if the conditions were true, and then add the plotting code after flattening in the \"else\" statement.\n",
    "\n",
    "ie, \n",
    "if monthly_precip_data_1989.ndim == 1:\n",
    "        # just copy/paste plot code as placeholder for plotting\n",
    "        plt.rcParams[\"figure.figsize\"] = (8, 8)\n",
    "\n",
    "        # create the plot space upon which to plot the data\n",
    "        fig, ax = plt.subplots()\n",
    "        \n",
    "        # add the x-axis and the y-axis to the plot\n",
    "        ax.plot(monthlist, boulder_precip_2007_to_2017[[year]], color=\"blue\")\n",
    "        \n",
    "        # rotate x-axis by 45 degrees to improve readability\n",
    "        plt.setp(ax.get_xticklabels(), rotation=45)\n",
    "\n",
    "        # set plot title\n",
    "        ax.set(title=\"Monthly Precipitation for \" + year + \" in Boulder, CO\")\n",
    "\n",
    "        # add labels to the axes\n",
    "        ax.set(xlabel=\"Month\", ylabel=\"Precipitation (mm)\");print(monthly_precip_data_1989.shape)\n",
    "    \n",
    "else:\n",
    "    monthly_precip_data_1989_1d = monthly_precip_data_1989.flatten()\n",
    "    print(monthly_precip_data_1989_1d.shape)\n",
    "    #then add plotting code\n"
   ]
  },
  {
   "cell_type": "markdown",
   "metadata": {},
   "source": [
    "Question 6: Loop on Pandas Dataframes\n",
    "\n",
    "Write a loop to run the info() method on the two pandas dataframes that you imported in this activity, and print the results.\n",
    "\n",
    "Hint:\n",
    "\n",
    "    Recall that creating a list of items to iterate upon is a good first step to writing a loop.\n",
    "    Think about what you are iterating upon in this question - do your list values need \"\" to indicate text strings, or are you iterating on existing variables?"
   ]
  },
  {
   "cell_type": "code",
   "execution_count": 71,
   "metadata": {},
   "outputs": [
    {
     "name": "stdout",
     "output_type": "stream",
     "text": [
      "<class 'pandas.core.frame.DataFrame'>\n",
      "RangeIndex: 5 entries, 0 to 4\n",
      "Data columns (total 13 columns):\n",
      "Year         5 non-null int64\n",
      "January      5 non-null float64\n",
      "February     5 non-null float64\n",
      "March        5 non-null float64\n",
      "April        5 non-null float64\n",
      "May          5 non-null float64\n",
      "June         5 non-null float64\n",
      "July         5 non-null float64\n",
      "August       5 non-null float64\n",
      "September    5 non-null float64\n",
      "October      5 non-null float64\n",
      "November     5 non-null float64\n",
      "December     5 non-null float64\n",
      "dtypes: float64(12), int64(1)\n",
      "memory usage: 600.0 bytes\n",
      "None\n",
      "\n",
      "<class 'pandas.core.frame.DataFrame'>\n",
      "RangeIndex: 5 entries, 0 to 4\n",
      "Data columns (total 13 columns):\n",
      "Year         5 non-null int64\n",
      "January      5 non-null float64\n",
      "February     5 non-null float64\n",
      "March        5 non-null float64\n",
      "April        5 non-null float64\n",
      "May          5 non-null float64\n",
      "June         5 non-null float64\n",
      "July         5 non-null float64\n",
      "August       5 non-null float64\n",
      "September    5 non-null float64\n",
      "October      5 non-null float64\n",
      "November     5 non-null float64\n",
      "December     5 non-null float64\n",
      "dtypes: float64(12), int64(1)\n",
      "memory usage: 600.0 bytes\n",
      "None\n",
      "\n"
     ]
    }
   ],
   "source": [
    "arraylist = [temp_1991_to_1995_months, temp_1996_to_2000_months]\n",
    "\n",
    "for array in arraylist:\n",
    "    print(array.info())\n",
    "    print(\"\")\n",
    "    "
   ]
  },
  {
   "cell_type": "markdown",
   "metadata": {},
   "source": [
    "Question 7: Loop on Columns in Pandas Dataframes\n",
    "\n",
    "Write a loop to run the .describe() method on each column in the pandas dataframe containing the data for 1996 to 2000).\n",
    "\n",
    "Hint:\n",
    "\n",
    "    Recall that creating a list of items to iterate upon is a good first step to writing a loop.\n",
    "    Think about what you are iterating upon in this question - do your list values need \"\" to indicate text strings, or are you iterating on existing variables?\n",
    "    Recall that to select columns in pandas dataframes using implicit variables (i.e. not explicitly created by you), change the syntax from dataframe.column_name to dataframe[[column_name]]."
   ]
  },
  {
   "cell_type": "code",
   "execution_count": 75,
   "metadata": {},
   "outputs": [
    {
     "name": "stdout",
     "output_type": "stream",
     "text": [
      "         January\n",
      "count   5.000000\n",
      "mean   34.060000\n",
      "std     3.298939\n",
      "min    29.700000\n",
      "25%    31.300000\n",
      "50%    36.400000\n",
      "75%    36.400000\n",
      "max    36.500000\n",
      "\n",
      "        February\n",
      "count   5.000000\n",
      "mean   38.000000\n",
      "std     3.724916\n",
      "min    32.800000\n",
      "25%    36.400000\n",
      "50%    37.700000\n",
      "75%    41.000000\n",
      "max    42.100000\n",
      "\n",
      "           March\n",
      "count   5.000000\n",
      "mean   42.200000\n",
      "std     3.760319\n",
      "min    37.900000\n",
      "25%    38.700000\n",
      "50%    42.900000\n",
      "75%    45.500000\n",
      "max    46.000000\n",
      "\n",
      "           April\n",
      "count   5.000000\n",
      "mean   47.080000\n",
      "std     3.650616\n",
      "min    42.800000\n",
      "25%    44.500000\n",
      "50%    46.500000\n",
      "75%    50.400000\n",
      "max    51.200000\n",
      "\n",
      "           May\n",
      "count   5.0000\n",
      "mean   58.3400\n",
      "std     1.9995\n",
      "min    55.6000\n",
      "25%    57.4000\n",
      "50%    58.8000\n",
      "75%    58.9000\n",
      "max    61.0000\n",
      "\n",
      "            June\n",
      "count   5.000000\n",
      "mean   65.540000\n",
      "std     2.157081\n",
      "min    62.100000\n",
      "25%    64.800000\n",
      "50%    66.500000\n",
      "75%    66.900000\n",
      "max    67.400000\n",
      "\n",
      "            July\n",
      "count   5.000000\n",
      "mean   72.780000\n",
      "std     1.391761\n",
      "min    71.400000\n",
      "25%    71.500000\n",
      "50%    72.800000\n",
      "75%    73.500000\n",
      "max    74.700000\n",
      "\n",
      "          August\n",
      "count   5.000000\n",
      "mean   70.240000\n",
      "std     1.705286\n",
      "min    68.700000\n",
      "25%    69.300000\n",
      "50%    69.500000\n",
      "75%    70.700000\n",
      "max    73.000000\n",
      "\n",
      "       September\n",
      "count   5.000000\n",
      "mean   62.700000\n",
      "std     3.258067\n",
      "min    58.500000\n",
      "25%    60.800000\n",
      "50%    63.100000\n",
      "75%    64.000000\n",
      "max    67.100000\n",
      "\n",
      "         October\n",
      "count   5.000000\n",
      "mean   51.540000\n",
      "std     1.497665\n",
      "min    49.600000\n",
      "25%    50.400000\n",
      "50%    51.900000\n",
      "75%    52.700000\n",
      "max    53.100000\n",
      "\n",
      "        November\n",
      "count   5.000000\n",
      "mean   40.380000\n",
      "std     6.285062\n",
      "min    31.400000\n",
      "25%    37.900000\n",
      "50%    40.600000\n",
      "75%    44.000000\n",
      "max    48.000000\n",
      "\n",
      "       December\n",
      "count   5.00000\n",
      "mean   34.14000\n",
      "std     2.53239\n",
      "min    31.20000\n",
      "25%    32.20000\n",
      "50%    33.90000\n",
      "75%    36.50000\n",
      "max    36.90000\n",
      "\n"
     ]
    }
   ],
   "source": [
    "#create list of months\n",
    "monthlist = ['January','February','March','April','May','June','July','August','September','October','November','December']\n",
    "\n",
    "# use loop to calculate summary statistics for each month\n",
    "for month in monthlist:\n",
    "    \n",
    "    summarystatistics = temp_1996_to_2000_months[[month]].describe()\n",
    "    print(summarystatistics)\n",
    "    print(\"\")\n",
    "    "
   ]
  },
  {
   "cell_type": "markdown",
   "metadata": {},
   "source": [
    "Question 8: Write Function to Summarize Numpy Array Using Axes\n",
    "\n",
    "Write a function that calculates the mean across columns of a numpy array.\n",
    "\n",
    "Hints:\n",
    "\n",
    "    Recall which existing numpy function you can use to calculate a mean. You will include this function within the function you write to answer this question.\n",
    "    Review the lessons on functions to see the use of axes to calculate a statistic across the rows or columns of a numpy array."
   ]
  },
  {
   "cell_type": "code",
   "execution_count": 77,
   "metadata": {},
   "outputs": [],
   "source": [
    "# function which calculates mean across columns\n",
    "def mean_across_columns(x):\n",
    "    # function accepts numpy arrays as inputs\n",
    "    \n",
    "    return(np.mean(x,axis = 0))"
   ]
  },
  {
   "cell_type": "code",
   "execution_count": 78,
   "metadata": {},
   "outputs": [
    {
     "name": "stdout",
     "output_type": "stream",
     "text": [
      "[0.902 1.184 1.608 3.746 3.898 2.96  1.114 2.19  2.444 1.402 1.776 0.468]\n"
     ]
    }
   ],
   "source": [
    "# call function to calculate mean for monthly precip from 1993 - 1997\n",
    "mean_precip_1993_to_1997 = mean_across_columns(monthly_precip_1993_to_1997)\n",
    "print(mean_precip_1993_to_1997)"
   ]
  },
  {
   "cell_type": "markdown",
   "metadata": {},
   "source": [
    "Question 10: Practice Pseudo Coding\n",
    "\n",
    "You have already learned how to save the output from one run of a function (see Question 9). What if you wanted to run the function on multiple numpy arrays?\n",
    "\n",
    "Write a sentence or two on what you would need to know how to do, in order to save the output from a function that is running on multiple arrays in a loop.\n",
    "\n",
    "Hint: think about how you can append values to a list using a loop (i.e. create an empty list that gets values appended to it in the loop)."
   ]
  },
  {
   "cell_type": "markdown",
   "metadata": {},
   "source": [
    "You would need to know how to create a function that allowed for multiple inputs (the different numpy arrays) and also that allowed you to create multiple variables which could be called to return from the function (to output the multiple arrays which had been through the function). I think this is possible, but am not quite sure about the syntax. Perhaps you can have more than one variable in the function? For example def function(x,y,z) and then you could return(x), return(y) and return(z) after calculations had been performed?"
   ]
  }
 ],
 "metadata": {
  "kernelspec": {
   "display_name": "Python 3",
   "language": "python",
   "name": "python3"
  },
  "language_info": {
   "codemirror_mode": {
    "name": "ipython",
    "version": 3
   },
   "file_extension": ".py",
   "mimetype": "text/x-python",
   "name": "python",
   "nbconvert_exporter": "python",
   "pygments_lexer": "ipython3",
   "version": "3.6.5"
  }
 },
 "nbformat": 4,
 "nbformat_minor": 2
}
